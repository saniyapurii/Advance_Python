{
 "cells": [
  {
   "cell_type": "code",
   "execution_count": 21,
   "id": "3e69b1c6-070d-4a45-937c-f386211c2d51",
   "metadata": {},
   "outputs": [],
   "source": [
    "#numpy is used to do scientific calculations.\n",
    "#elements of same datatype in the form of array.\n",
    "#memory consume less as compare to lists\n",
    "#computation power is more than lists\n",
    "#numpy is a built-in library which is fast as compare to lists\n",
    "#homogeneous elements stored in array whereas list stores heterogenous elements"
   ]
  },
  {
   "cell_type": "code",
   "execution_count": 23,
   "id": "e2e821ad-fd8f-493a-b11a-bf8609bc8af2",
   "metadata": {},
   "outputs": [
    {
     "name": "stdin",
     "output_type": "stream",
     "text": [
      "Enter the size:  4\n",
      "Enter item:  23\n",
      "Enter item:  12\n",
      "Enter item:  4\n",
      "Enter item:  56\n"
     ]
    },
    {
     "data": {
      "text/plain": [
       "array([23, 12,  4, 56])"
      ]
     },
     "execution_count": 23,
     "metadata": {},
     "output_type": "execute_result"
    }
   ],
   "source": [
    "import numpy as np\n",
    "a=[]\n",
    "size = int(input(\"Enter the size: \"))\n",
    "for i in range(size):\n",
    "    val=int(input(\"Enter item: \"))\n",
    "    a.append(val)\n",
    "b=np.array(a)\n",
    "b"
   ]
  },
  {
   "cell_type": "markdown",
   "id": "458b25ea-56c1-4ac9-abb7-d4a10b93eeb5",
   "metadata": {},
   "source": [
    "# How can we check shape and size of an array?"
   ]
  },
  {
   "cell_type": "code",
   "execution_count": 26,
   "id": "fb949968-251d-4f3e-bc33-277722ff069b",
   "metadata": {},
   "outputs": [
    {
     "data": {
      "text/plain": [
       "array([   1,   34,   89, 9900])"
      ]
     },
     "execution_count": 26,
     "metadata": {},
     "output_type": "execute_result"
    }
   ],
   "source": [
    "a = np.array([1,34,89,9900])\n",
    "a"
   ]
  },
  {
   "cell_type": "code",
   "execution_count": 28,
   "id": "13170eaf-4846-4ab5-8fc4-5bab7c9b18e5",
   "metadata": {},
   "outputs": [
    {
     "name": "stdout",
     "output_type": "stream",
     "text": [
      "Total Shape= (4,)\n",
      "Total Elements= 4\n"
     ]
    }
   ],
   "source": [
    "print(\"Total Shape=\", a.shape)\n",
    "print(\"Total Elements=\", a.size)"
   ]
  },
  {
   "cell_type": "code",
   "execution_count": 31,
   "id": "78a90007-85b2-4d74-8a51-aaa162fe4088",
   "metadata": {},
   "outputs": [
    {
     "data": {
      "text/plain": [
       "array([[1, 2, 3],\n",
       "       [4, 5, 6],\n",
       "       [7, 8, 9]])"
      ]
     },
     "execution_count": 31,
     "metadata": {},
     "output_type": "execute_result"
    }
   ],
   "source": [
    "a=[[1,2,3],[4,5,6],[7,8,9]]\n",
    "b=np.array(a)\n",
    "b"
   ]
  },
  {
   "cell_type": "code",
   "execution_count": null,
   "id": "54156b10-b2d6-47ee-a8d0-221776bb9d09",
   "metadata": {},
   "outputs": [],
   "source": [
    "# row_1 = [1,2,3]\n",
    "# row_2 = [4,5,6]\n",
    "# row_3 = [7,8,9]\n",
    "\n",
    "# col_1 = [1,4,7]\n",
    "# copl_2 = [2,5,8]\n",
    "# col_3 = [3,6,9]"
   ]
  },
  {
   "cell_type": "code",
   "execution_count": 30,
   "id": "36c95215-adff-4e5a-b1f3-926a7455a599",
   "metadata": {},
   "outputs": [
    {
     "name": "stdout",
     "output_type": "stream",
     "text": [
      "Total shape= (3, 3)\n",
      "Total Elements= 9\n"
     ]
    }
   ],
   "source": [
    "print(\"Total shape=\", b.shape)\n",
    "print(\"Total Elements=\", b.size)"
   ]
  },
  {
   "cell_type": "code",
   "execution_count": null,
   "id": "a8f16739-90a4-4f00-88c9-9b4640114b66",
   "metadata": {},
   "outputs": [],
   "source": [
    "# iMAGES ===> pixels(0-255) ===> 0px black , 255 px white ==> Normalize(0-1)px \n",
    "# Intially weights ===> 0 , 1 \n",
    "# optimization ===> 0,1 \n",
    "# matrix ===> n(rows) , n(columns) \n",
    "# symmatric Matrix ===> n(rows) = n(columns) \n",
    "# Aymmatric Matrix ===> n(rows) !=n(columns) \n",
    "# [(1,1) , (2,2) , (3,3) , (4,4)......(n,n)]"
   ]
  },
  {
   "cell_type": "markdown",
   "id": "09350a69-740a-4ae7-9a87-5835035a8641",
   "metadata": {},
   "source": [
    "# Pre-Defined Function"
   ]
  },
  {
   "cell_type": "markdown",
   "id": "cd0b1f1a-e49f-4eb2-b00e-bc09db429d5c",
   "metadata": {},
   "source": [
    "## (1).zeros()==> It will create an array in which all the elements are 0."
   ]
  },
  {
   "cell_type": "code",
   "execution_count": 7,
   "id": "ce00597c-4361-4c43-98f0-02a460092d1e",
   "metadata": {},
   "outputs": [
    {
     "data": {
      "text/plain": [
       "array([0., 0., 0., 0.])"
      ]
     },
     "execution_count": 7,
     "metadata": {},
     "output_type": "execute_result"
    }
   ],
   "source": [
    "a = np.zeros(4)\n",
    "a"
   ]
  },
  {
   "cell_type": "code",
   "execution_count": 8,
   "id": "86b72659-c96c-46f6-82fe-d657892e75ce",
   "metadata": {},
   "outputs": [
    {
     "data": {
      "text/plain": [
       "array([[0., 0., 0.],\n",
       "       [0., 0., 0.]])"
      ]
     },
     "execution_count": 8,
     "metadata": {},
     "output_type": "execute_result"
    }
   ],
   "source": [
    "a = np.zeros((2,3))\n",
    "a"
   ]
  },
  {
   "cell_type": "markdown",
   "id": "a0b121af-f2c7-4847-905a-66ea79c0d6cb",
   "metadata": {},
   "source": [
    "## (2). ones() ==> It will create an array in which all the elements are 1."
   ]
  },
  {
   "cell_type": "code",
   "execution_count": 9,
   "id": "eac2bf0d-c5e3-4aba-9ede-cd2024a37589",
   "metadata": {},
   "outputs": [
    {
     "data": {
      "text/plain": [
       "array([1., 1., 1.])"
      ]
     },
     "execution_count": 9,
     "metadata": {},
     "output_type": "execute_result"
    }
   ],
   "source": [
    "a = np.ones(3)\n",
    "a"
   ]
  },
  {
   "cell_type": "code",
   "execution_count": 11,
   "id": "a6aded0f-11b7-41b5-85bf-2f4e20276be7",
   "metadata": {},
   "outputs": [
    {
     "data": {
      "text/plain": [
       "array([[1., 1., 1.],\n",
       "       [1., 1., 1.]])"
      ]
     },
     "execution_count": 11,
     "metadata": {},
     "output_type": "execute_result"
    }
   ],
   "source": [
    "a = np.ones((2,3))\n",
    "a"
   ]
  },
  {
   "cell_type": "code",
   "execution_count": 12,
   "id": "ce9e7557-a0da-4b02-9519-55194606a8b0",
   "metadata": {},
   "outputs": [
    {
     "data": {
      "text/plain": [
       "numpy.ndarray"
      ]
     },
     "execution_count": 12,
     "metadata": {},
     "output_type": "execute_result"
    }
   ],
   "source": [
    "type(a)"
   ]
  },
  {
   "cell_type": "code",
   "execution_count": 14,
   "id": "9802f952-3b91-4b3b-9295-f9c10fbbafce",
   "metadata": {},
   "outputs": [
    {
     "data": {
      "text/plain": [
       "(2, 3)"
      ]
     },
     "execution_count": 14,
     "metadata": {},
     "output_type": "execute_result"
    }
   ],
   "source": [
    "a.shape"
   ]
  },
  {
   "cell_type": "code",
   "execution_count": 15,
   "id": "15e8832f-6575-4457-b106-0d0b9fb2265d",
   "metadata": {},
   "outputs": [
    {
     "data": {
      "text/plain": [
       "6"
      ]
     },
     "execution_count": 15,
     "metadata": {},
     "output_type": "execute_result"
    }
   ],
   "source": [
    "a.size"
   ]
  },
  {
   "cell_type": "markdown",
   "id": "2b2076d7-e20e-436d-8bae-b643b3006ae8",
   "metadata": {},
   "source": [
    "## (3). eye()==> In this function diagnoal positional element are 1 and rest all are zero. By default the function is 2D"
   ]
  },
  {
   "cell_type": "code",
   "execution_count": 19,
   "id": "d015b7b5-50b1-431f-8c6b-94915289dd9a",
   "metadata": {},
   "outputs": [
    {
     "data": {
      "text/plain": [
       "array([[1., 0., 0., 0.],\n",
       "       [0., 1., 0., 0.],\n",
       "       [0., 0., 1., 0.],\n",
       "       [0., 0., 0., 1.]])"
      ]
     },
     "execution_count": 19,
     "metadata": {},
     "output_type": "execute_result"
    }
   ],
   "source": [
    "a =np.eye(4) ###Symetric matrix\n",
    "a"
   ]
  },
  {
   "cell_type": "code",
   "execution_count": 18,
   "id": "6a12db34-5478-4970-bb98-943126d66e54",
   "metadata": {},
   "outputs": [
    {
     "data": {
      "text/plain": [
       "array([[1., 0., 0., 0.],\n",
       "       [0., 1., 0., 0.],\n",
       "       [0., 0., 1., 0.]])"
      ]
     },
     "execution_count": 18,
     "metadata": {},
     "output_type": "execute_result"
    }
   ],
   "source": [
    "a = np.eye(3,4) ####AsymetricMatrix\n",
    "a"
   ]
  },
  {
   "cell_type": "code",
   "execution_count": null,
   "id": "ce1aa924-bb77-4115-9897-13aa904d5797",
   "metadata": {},
   "outputs": [],
   "source": []
  }
 ],
 "metadata": {
  "kernelspec": {
   "display_name": "Python 3 (ipykernel)",
   "language": "python",
   "name": "python3"
  },
  "language_info": {
   "codemirror_mode": {
    "name": "ipython",
    "version": 3
   },
   "file_extension": ".py",
   "mimetype": "text/x-python",
   "name": "python",
   "nbconvert_exporter": "python",
   "pygments_lexer": "ipython3",
   "version": "3.9.0"
  }
 },
 "nbformat": 4,
 "nbformat_minor": 5
}
