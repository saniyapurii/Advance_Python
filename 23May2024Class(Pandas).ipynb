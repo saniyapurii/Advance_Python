{
 "cells": [
  {
   "cell_type": "markdown",
   "id": "1d64d813-f751-4ba4-ad99-84b3f0846040",
   "metadata": {},
   "source": [
    "import numpy as np"
   ]
  },
  {
   "cell_type": "code",
   "execution_count": 10,
   "id": "5ea36ba7-a637-443a-b83d-9619819a74f2",
   "metadata": {},
   "outputs": [
    {
     "data": {
      "text/plain": [
       "array([ 5, 13,  1,  5,  7])"
      ]
     },
     "execution_count": 10,
     "metadata": {},
     "output_type": "execute_result"
    }
   ],
   "source": [
    "np.random.seed(22)\n",
    "\n",
    "a = np.random.randint(1,20,5)\n",
    "a"
   ]
  },
  {
   "cell_type": "markdown",
   "id": "7855ef63-2d1b-483b-8979-6efcb424b286",
   "metadata": {},
   "source": [
    "# Pandas"
   ]
  },
  {
   "cell_type": "markdown",
   "id": "6cd76b5d-12e9-43aa-b3af-c01565fb7eef",
   "metadata": {},
   "source": [
    "#### Pandas= open source library that is used to handle data manipulations."
   ]
  },
  {
   "cell_type": "markdown",
   "id": "35b41cf4-658a-4ad1-842c-6373c7de328a",
   "metadata": {},
   "source": [
    "## Data structure of pandas\n",
    "\n",
    "1. Series ===> it is used for one dimensional data. It shows only values of a coloumn and it will not include coloumn name.\n",
    "2. DataFrame ===> It is multi-dimensional data. It shows column name with values.\n"
   ]
  },
  {
   "cell_type": "code",
   "execution_count": 16,
   "id": "527e43d5-3c61-4381-92d2-9eb700315b34",
   "metadata": {},
   "outputs": [],
   "source": [
    "import pandas as pd"
   ]
  },
  {
   "cell_type": "markdown",
   "id": "c6ffc8d5-5ea8-4261-ae46-ffa66262ebdb",
   "metadata": {},
   "source": [
    "## (1). Series"
   ]
  },
  {
   "cell_type": "code",
   "execution_count": 14,
   "id": "b1a07c3d-d83c-4f2d-961e-1bdd47d799e0",
   "metadata": {},
   "outputs": [
    {
     "data": {
      "text/plain": [
       "0     1\n",
       "1    34\n",
       "2    78\n",
       "3    90\n",
       "dtype: int64"
      ]
     },
     "execution_count": 14,
     "metadata": {},
     "output_type": "execute_result"
    }
   ],
   "source": [
    "a = pd.Series([1,34,78,90])\n",
    "a"
   ]
  },
  {
   "cell_type": "code",
   "execution_count": 15,
   "id": "4f4002a7-d882-43ee-a5b9-76b2a1eb860b",
   "metadata": {},
   "outputs": [
    {
     "data": {
      "text/plain": [
       "pandas.core.series.Series"
      ]
     },
     "execution_count": 15,
     "metadata": {},
     "output_type": "execute_result"
    }
   ],
   "source": [
    "type(a)"
   ]
  },
  {
   "cell_type": "markdown",
   "id": "c7236068-618d-41d0-9d3a-55ce0d46b604",
   "metadata": {},
   "source": [
    "## (2). DataFrame"
   ]
  },
  {
   "cell_type": "code",
   "execution_count": 4,
   "id": "45bef9ea-91a9-4df3-9177-496faa46438f",
   "metadata": {},
   "outputs": [
    {
     "data": {
      "text/plain": [
       "{'Emp_ID': [1, 2, 3, 4, 5, 6, 7, 8],\n",
       " 'Name': ['Sam',\n",
       "  'Rahhul',\n",
       "  'Gorav',\n",
       "  'Aniket',\n",
       "  'Anjali',\n",
       "  'Riya',\n",
       "  'Muskan',\n",
       "  'Harsh'],\n",
       " 'Department': ['IT', 'HR', 'Sales', 'IT', 'IT', 'IT', 'Sales', 'IT'],\n",
       " 'Salary': [25000, 27000, 23000, 38000, 35000, 32000, 28000, 31000],\n",
       " 'Working_Hours': [8, 9, 8, 9, 7, 6, 7, 8]}"
      ]
     },
     "execution_count": 4,
     "metadata": {},
     "output_type": "execute_result"
    }
   ],
   "source": [
    "a = {\n",
    "    \"Emp_ID\" : [1,2,3,4,5,6,7,8],\n",
    "    \"Name\" : ['Sam', 'Rahhul', 'Gorav', 'Aniket', 'Anjali', 'Riya', 'Muskan', 'Harsh'],\n",
    "    \"Department\" : ['IT', 'HR', 'Sales', 'IT', 'IT', 'IT', 'Sales', 'IT'],\n",
    "    \"Salary\" : [25000, 27000, 23000, 38000, 35000, 32000, 28000, 31000],\n",
    "    \"Working_Hours\": [8,9,8,9,7,6,7,8]\n",
    "}\n",
    "a"
   ]
  },
  {
   "cell_type": "code",
   "execution_count": 5,
   "id": "5a1e2475-295e-41e0-b2ad-dcee188a8941",
   "metadata": {},
   "outputs": [
    {
     "data": {
      "text/plain": [
       "dict"
      ]
     },
     "execution_count": 5,
     "metadata": {},
     "output_type": "execute_result"
    }
   ],
   "source": [
    "type(a)"
   ]
  },
  {
   "cell_type": "code",
   "execution_count": 12,
   "id": "ec524361-83a4-44f7-abc5-79b887dcc214",
   "metadata": {},
   "outputs": [
    {
     "data": {
      "text/html": [
       "<div>\n",
       "<style scoped>\n",
       "    .dataframe tbody tr th:only-of-type {\n",
       "        vertical-align: middle;\n",
       "    }\n",
       "\n",
       "    .dataframe tbody tr th {\n",
       "        vertical-align: top;\n",
       "    }\n",
       "\n",
       "    .dataframe thead th {\n",
       "        text-align: right;\n",
       "    }\n",
       "</style>\n",
       "<table border=\"1\" class=\"dataframe\">\n",
       "  <thead>\n",
       "    <tr style=\"text-align: right;\">\n",
       "      <th></th>\n",
       "      <th>Emp_ID</th>\n",
       "      <th>Name</th>\n",
       "      <th>Department</th>\n",
       "      <th>Salary</th>\n",
       "      <th>Working_Hours</th>\n",
       "    </tr>\n",
       "  </thead>\n",
       "  <tbody>\n",
       "    <tr>\n",
       "      <th>0</th>\n",
       "      <td>1</td>\n",
       "      <td>Sam</td>\n",
       "      <td>IT</td>\n",
       "      <td>25000</td>\n",
       "      <td>8</td>\n",
       "    </tr>\n",
       "    <tr>\n",
       "      <th>1</th>\n",
       "      <td>2</td>\n",
       "      <td>Rahhul</td>\n",
       "      <td>HR</td>\n",
       "      <td>27000</td>\n",
       "      <td>9</td>\n",
       "    </tr>\n",
       "    <tr>\n",
       "      <th>2</th>\n",
       "      <td>3</td>\n",
       "      <td>Gorav</td>\n",
       "      <td>Sales</td>\n",
       "      <td>23000</td>\n",
       "      <td>8</td>\n",
       "    </tr>\n",
       "    <tr>\n",
       "      <th>3</th>\n",
       "      <td>4</td>\n",
       "      <td>Aniket</td>\n",
       "      <td>IT</td>\n",
       "      <td>38000</td>\n",
       "      <td>9</td>\n",
       "    </tr>\n",
       "    <tr>\n",
       "      <th>4</th>\n",
       "      <td>5</td>\n",
       "      <td>Anjali</td>\n",
       "      <td>IT</td>\n",
       "      <td>35000</td>\n",
       "      <td>7</td>\n",
       "    </tr>\n",
       "    <tr>\n",
       "      <th>5</th>\n",
       "      <td>6</td>\n",
       "      <td>Riya</td>\n",
       "      <td>IT</td>\n",
       "      <td>32000</td>\n",
       "      <td>6</td>\n",
       "    </tr>\n",
       "    <tr>\n",
       "      <th>6</th>\n",
       "      <td>7</td>\n",
       "      <td>Muskan</td>\n",
       "      <td>Sales</td>\n",
       "      <td>28000</td>\n",
       "      <td>7</td>\n",
       "    </tr>\n",
       "    <tr>\n",
       "      <th>7</th>\n",
       "      <td>8</td>\n",
       "      <td>Harsh</td>\n",
       "      <td>IT</td>\n",
       "      <td>31000</td>\n",
       "      <td>8</td>\n",
       "    </tr>\n",
       "  </tbody>\n",
       "</table>\n",
       "</div>"
      ],
      "text/plain": [
       "   Emp_ID    Name Department  Salary  Working_Hours\n",
       "0       1     Sam         IT   25000              8\n",
       "1       2  Rahhul         HR   27000              9\n",
       "2       3   Gorav      Sales   23000              8\n",
       "3       4  Aniket         IT   38000              9\n",
       "4       5  Anjali         IT   35000              7\n",
       "5       6    Riya         IT   32000              6\n",
       "6       7  Muskan      Sales   28000              7\n",
       "7       8   Harsh         IT   31000              8"
      ]
     },
     "execution_count": 12,
     "metadata": {},
     "output_type": "execute_result"
    }
   ],
   "source": [
    "import pandas as pd\n",
    "\n",
    "df = pd.DataFrame(a)\n",
    "df"
   ]
  },
  {
   "cell_type": "markdown",
   "id": "2f748058-9884-40c6-9fd0-5be63bdeb4ef",
   "metadata": {},
   "source": [
    "## How to check top 5 data from a dataset?"
   ]
  },
  {
   "cell_type": "code",
   "execution_count": 13,
   "id": "d67c5d9c-c3b5-4c2c-af6d-74a0728395b4",
   "metadata": {},
   "outputs": [
    {
     "data": {
      "text/html": [
       "<div>\n",
       "<style scoped>\n",
       "    .dataframe tbody tr th:only-of-type {\n",
       "        vertical-align: middle;\n",
       "    }\n",
       "\n",
       "    .dataframe tbody tr th {\n",
       "        vertical-align: top;\n",
       "    }\n",
       "\n",
       "    .dataframe thead th {\n",
       "        text-align: right;\n",
       "    }\n",
       "</style>\n",
       "<table border=\"1\" class=\"dataframe\">\n",
       "  <thead>\n",
       "    <tr style=\"text-align: right;\">\n",
       "      <th></th>\n",
       "      <th>Emp_ID</th>\n",
       "      <th>Name</th>\n",
       "      <th>Department</th>\n",
       "      <th>Salary</th>\n",
       "      <th>Working_Hours</th>\n",
       "    </tr>\n",
       "  </thead>\n",
       "  <tbody>\n",
       "    <tr>\n",
       "      <th>0</th>\n",
       "      <td>1</td>\n",
       "      <td>Sam</td>\n",
       "      <td>IT</td>\n",
       "      <td>25000</td>\n",
       "      <td>8</td>\n",
       "    </tr>\n",
       "    <tr>\n",
       "      <th>1</th>\n",
       "      <td>2</td>\n",
       "      <td>Rahhul</td>\n",
       "      <td>HR</td>\n",
       "      <td>27000</td>\n",
       "      <td>9</td>\n",
       "    </tr>\n",
       "    <tr>\n",
       "      <th>2</th>\n",
       "      <td>3</td>\n",
       "      <td>Gorav</td>\n",
       "      <td>Sales</td>\n",
       "      <td>23000</td>\n",
       "      <td>8</td>\n",
       "    </tr>\n",
       "    <tr>\n",
       "      <th>3</th>\n",
       "      <td>4</td>\n",
       "      <td>Aniket</td>\n",
       "      <td>IT</td>\n",
       "      <td>38000</td>\n",
       "      <td>9</td>\n",
       "    </tr>\n",
       "    <tr>\n",
       "      <th>4</th>\n",
       "      <td>5</td>\n",
       "      <td>Anjali</td>\n",
       "      <td>IT</td>\n",
       "      <td>35000</td>\n",
       "      <td>7</td>\n",
       "    </tr>\n",
       "  </tbody>\n",
       "</table>\n",
       "</div>"
      ],
      "text/plain": [
       "   Emp_ID    Name Department  Salary  Working_Hours\n",
       "0       1     Sam         IT   25000              8\n",
       "1       2  Rahhul         HR   27000              9\n",
       "2       3   Gorav      Sales   23000              8\n",
       "3       4  Aniket         IT   38000              9\n",
       "4       5  Anjali         IT   35000              7"
      ]
     },
     "execution_count": 13,
     "metadata": {},
     "output_type": "execute_result"
    }
   ],
   "source": [
    "df.head()"
   ]
  },
  {
   "cell_type": "code",
   "execution_count": 17,
   "id": "4f7f9f7a-b14a-4085-8f9c-604a8982fc9a",
   "metadata": {},
   "outputs": [
    {
     "data": {
      "text/html": [
       "<div>\n",
       "<style scoped>\n",
       "    .dataframe tbody tr th:only-of-type {\n",
       "        vertical-align: middle;\n",
       "    }\n",
       "\n",
       "    .dataframe tbody tr th {\n",
       "        vertical-align: top;\n",
       "    }\n",
       "\n",
       "    .dataframe thead th {\n",
       "        text-align: right;\n",
       "    }\n",
       "</style>\n",
       "<table border=\"1\" class=\"dataframe\">\n",
       "  <thead>\n",
       "    <tr style=\"text-align: right;\">\n",
       "      <th></th>\n",
       "      <th>Emp_ID</th>\n",
       "      <th>Name</th>\n",
       "      <th>Department</th>\n",
       "      <th>Salary</th>\n",
       "      <th>Working_Hours</th>\n",
       "    </tr>\n",
       "  </thead>\n",
       "  <tbody>\n",
       "    <tr>\n",
       "      <th>0</th>\n",
       "      <td>1</td>\n",
       "      <td>Sam</td>\n",
       "      <td>IT</td>\n",
       "      <td>25000</td>\n",
       "      <td>8</td>\n",
       "    </tr>\n",
       "    <tr>\n",
       "      <th>1</th>\n",
       "      <td>2</td>\n",
       "      <td>Rahhul</td>\n",
       "      <td>HR</td>\n",
       "      <td>27000</td>\n",
       "      <td>9</td>\n",
       "    </tr>\n",
       "  </tbody>\n",
       "</table>\n",
       "</div>"
      ],
      "text/plain": [
       "   Emp_ID    Name Department  Salary  Working_Hours\n",
       "0       1     Sam         IT   25000              8\n",
       "1       2  Rahhul         HR   27000              9"
      ]
     },
     "execution_count": 17,
     "metadata": {},
     "output_type": "execute_result"
    }
   ],
   "source": [
    "df.head(2)"
   ]
  },
  {
   "cell_type": "markdown",
   "id": "10fd7f4a-bbb4-4032-8de5-eb6d9b104c91",
   "metadata": {},
   "source": [
    "## How to check bottom data?"
   ]
  },
  {
   "cell_type": "code",
   "execution_count": 15,
   "id": "166fafb4-d0fe-4d44-b516-e9bae29f9085",
   "metadata": {},
   "outputs": [
    {
     "data": {
      "text/html": [
       "<div>\n",
       "<style scoped>\n",
       "    .dataframe tbody tr th:only-of-type {\n",
       "        vertical-align: middle;\n",
       "    }\n",
       "\n",
       "    .dataframe tbody tr th {\n",
       "        vertical-align: top;\n",
       "    }\n",
       "\n",
       "    .dataframe thead th {\n",
       "        text-align: right;\n",
       "    }\n",
       "</style>\n",
       "<table border=\"1\" class=\"dataframe\">\n",
       "  <thead>\n",
       "    <tr style=\"text-align: right;\">\n",
       "      <th></th>\n",
       "      <th>Emp_ID</th>\n",
       "      <th>Name</th>\n",
       "      <th>Department</th>\n",
       "      <th>Salary</th>\n",
       "      <th>Working_Hours</th>\n",
       "    </tr>\n",
       "  </thead>\n",
       "  <tbody>\n",
       "    <tr>\n",
       "      <th>3</th>\n",
       "      <td>4</td>\n",
       "      <td>Aniket</td>\n",
       "      <td>IT</td>\n",
       "      <td>38000</td>\n",
       "      <td>9</td>\n",
       "    </tr>\n",
       "    <tr>\n",
       "      <th>4</th>\n",
       "      <td>5</td>\n",
       "      <td>Anjali</td>\n",
       "      <td>IT</td>\n",
       "      <td>35000</td>\n",
       "      <td>7</td>\n",
       "    </tr>\n",
       "    <tr>\n",
       "      <th>5</th>\n",
       "      <td>6</td>\n",
       "      <td>Riya</td>\n",
       "      <td>IT</td>\n",
       "      <td>32000</td>\n",
       "      <td>6</td>\n",
       "    </tr>\n",
       "    <tr>\n",
       "      <th>6</th>\n",
       "      <td>7</td>\n",
       "      <td>Muskan</td>\n",
       "      <td>Sales</td>\n",
       "      <td>28000</td>\n",
       "      <td>7</td>\n",
       "    </tr>\n",
       "    <tr>\n",
       "      <th>7</th>\n",
       "      <td>8</td>\n",
       "      <td>Harsh</td>\n",
       "      <td>IT</td>\n",
       "      <td>31000</td>\n",
       "      <td>8</td>\n",
       "    </tr>\n",
       "  </tbody>\n",
       "</table>\n",
       "</div>"
      ],
      "text/plain": [
       "   Emp_ID    Name Department  Salary  Working_Hours\n",
       "3       4  Aniket         IT   38000              9\n",
       "4       5  Anjali         IT   35000              7\n",
       "5       6    Riya         IT   32000              6\n",
       "6       7  Muskan      Sales   28000              7\n",
       "7       8   Harsh         IT   31000              8"
      ]
     },
     "execution_count": 15,
     "metadata": {},
     "output_type": "execute_result"
    }
   ],
   "source": [
    "df.tail()"
   ]
  },
  {
   "cell_type": "code",
   "execution_count": 16,
   "id": "6b4c10ad-061c-4a9a-99b5-51d4837067b3",
   "metadata": {},
   "outputs": [
    {
     "data": {
      "text/html": [
       "<div>\n",
       "<style scoped>\n",
       "    .dataframe tbody tr th:only-of-type {\n",
       "        vertical-align: middle;\n",
       "    }\n",
       "\n",
       "    .dataframe tbody tr th {\n",
       "        vertical-align: top;\n",
       "    }\n",
       "\n",
       "    .dataframe thead th {\n",
       "        text-align: right;\n",
       "    }\n",
       "</style>\n",
       "<table border=\"1\" class=\"dataframe\">\n",
       "  <thead>\n",
       "    <tr style=\"text-align: right;\">\n",
       "      <th></th>\n",
       "      <th>Emp_ID</th>\n",
       "      <th>Name</th>\n",
       "      <th>Department</th>\n",
       "      <th>Salary</th>\n",
       "      <th>Working_Hours</th>\n",
       "    </tr>\n",
       "  </thead>\n",
       "  <tbody>\n",
       "    <tr>\n",
       "      <th>6</th>\n",
       "      <td>7</td>\n",
       "      <td>Muskan</td>\n",
       "      <td>Sales</td>\n",
       "      <td>28000</td>\n",
       "      <td>7</td>\n",
       "    </tr>\n",
       "    <tr>\n",
       "      <th>7</th>\n",
       "      <td>8</td>\n",
       "      <td>Harsh</td>\n",
       "      <td>IT</td>\n",
       "      <td>31000</td>\n",
       "      <td>8</td>\n",
       "    </tr>\n",
       "  </tbody>\n",
       "</table>\n",
       "</div>"
      ],
      "text/plain": [
       "   Emp_ID    Name Department  Salary  Working_Hours\n",
       "6       7  Muskan      Sales   28000              7\n",
       "7       8   Harsh         IT   31000              8"
      ]
     },
     "execution_count": 16,
     "metadata": {},
     "output_type": "execute_result"
    }
   ],
   "source": [
    "df.tail(2)"
   ]
  },
  {
   "cell_type": "markdown",
   "id": "01bd1c2d-fd5b-4fdc-9d86-2d5c56ce3af8",
   "metadata": {},
   "source": [
    "## How can we check random indexed data?"
   ]
  },
  {
   "cell_type": "code",
   "execution_count": 19,
   "id": "e8b2f341-0947-47e8-b548-504465483d7b",
   "metadata": {},
   "outputs": [
    {
     "data": {
      "text/html": [
       "<div>\n",
       "<style scoped>\n",
       "    .dataframe tbody tr th:only-of-type {\n",
       "        vertical-align: middle;\n",
       "    }\n",
       "\n",
       "    .dataframe tbody tr th {\n",
       "        vertical-align: top;\n",
       "    }\n",
       "\n",
       "    .dataframe thead th {\n",
       "        text-align: right;\n",
       "    }\n",
       "</style>\n",
       "<table border=\"1\" class=\"dataframe\">\n",
       "  <thead>\n",
       "    <tr style=\"text-align: right;\">\n",
       "      <th></th>\n",
       "      <th>Emp_ID</th>\n",
       "      <th>Name</th>\n",
       "      <th>Department</th>\n",
       "      <th>Salary</th>\n",
       "      <th>Working_Hours</th>\n",
       "    </tr>\n",
       "  </thead>\n",
       "  <tbody>\n",
       "    <tr>\n",
       "      <th>4</th>\n",
       "      <td>5</td>\n",
       "      <td>Anjali</td>\n",
       "      <td>IT</td>\n",
       "      <td>35000</td>\n",
       "      <td>7</td>\n",
       "    </tr>\n",
       "    <tr>\n",
       "      <th>2</th>\n",
       "      <td>3</td>\n",
       "      <td>Gorav</td>\n",
       "      <td>Sales</td>\n",
       "      <td>23000</td>\n",
       "      <td>8</td>\n",
       "    </tr>\n",
       "    <tr>\n",
       "      <th>6</th>\n",
       "      <td>7</td>\n",
       "      <td>Muskan</td>\n",
       "      <td>Sales</td>\n",
       "      <td>28000</td>\n",
       "      <td>7</td>\n",
       "    </tr>\n",
       "    <tr>\n",
       "      <th>1</th>\n",
       "      <td>2</td>\n",
       "      <td>Rahhul</td>\n",
       "      <td>HR</td>\n",
       "      <td>27000</td>\n",
       "      <td>9</td>\n",
       "    </tr>\n",
       "    <tr>\n",
       "      <th>0</th>\n",
       "      <td>1</td>\n",
       "      <td>Sam</td>\n",
       "      <td>IT</td>\n",
       "      <td>25000</td>\n",
       "      <td>8</td>\n",
       "    </tr>\n",
       "  </tbody>\n",
       "</table>\n",
       "</div>"
      ],
      "text/plain": [
       "   Emp_ID    Name Department  Salary  Working_Hours\n",
       "4       5  Anjali         IT   35000              7\n",
       "2       3   Gorav      Sales   23000              8\n",
       "6       7  Muskan      Sales   28000              7\n",
       "1       2  Rahhul         HR   27000              9\n",
       "0       1     Sam         IT   25000              8"
      ]
     },
     "execution_count": 19,
     "metadata": {},
     "output_type": "execute_result"
    }
   ],
   "source": [
    "df.sample(5)"
   ]
  },
  {
   "cell_type": "markdown",
   "id": "44191e67-94d1-4092-8bc6-2207d88ead86",
   "metadata": {},
   "source": [
    "## How to export our data?"
   ]
  },
  {
   "cell_type": "code",
   "execution_count": 21,
   "id": "94a760b8-2544-4457-b33b-557cac885c88",
   "metadata": {},
   "outputs": [],
   "source": [
    "df.to_csv(\"D:\\\\RegexSolution\\\\Python\\\\AdvancePython\\\\Import\\\\Emp_Info.csv\")"
   ]
  },
  {
   "cell_type": "code",
   "execution_count": null,
   "id": "275b1a99-dc96-4ca5-82e6-cc10dd8a95ef",
   "metadata": {},
   "outputs": [],
   "source": [
    "# Step 1 => (df to_csv(\" \"))\n",
    "# step 2 => Create a new folder ==> copy location ==> paste it into step1\n",
    "# df.to_csv(\"folder_location\\\\filename.csv\")"
   ]
  },
  {
   "cell_type": "code",
   "execution_count": null,
   "id": "c9c90b34-4007-48d0-bfd7-1c8f44dce0f0",
   "metadata": {},
   "outputs": [],
   "source": [
    "#instant data scrapper ==> data from live site, example-> Flipkart"
   ]
  },
  {
   "cell_type": "code",
   "execution_count": null,
   "id": "1a63113a-d319-4da3-94bc-d741f2c97170",
   "metadata": {},
   "outputs": [],
   "source": []
  }
 ],
 "metadata": {
  "kernelspec": {
   "display_name": "Python 3 (ipykernel)",
   "language": "python",
   "name": "python3"
  },
  "language_info": {
   "codemirror_mode": {
    "name": "ipython",
    "version": 3
   },
   "file_extension": ".py",
   "mimetype": "text/x-python",
   "name": "python",
   "nbconvert_exporter": "python",
   "pygments_lexer": "ipython3",
   "version": "3.9.0"
  }
 },
 "nbformat": 4,
 "nbformat_minor": 5
}
