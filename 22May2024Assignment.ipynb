{
 "cells": [
  {
   "cell_type": "markdown",
   "id": "681c098f-48a7-4490-9fcb-f4c50ffcbfa3",
   "metadata": {},
   "source": [
    "## Q.1 = Write statement to import numpy ? \n",
    "\n",
    "## Q.2 = Create an array using numpy ? \n",
    "\n",
    "## Q.3 = Create an array of 10 random integers ?\n",
    "\n",
    "## Q.4 = Create an array of elements from  10-20? \n",
    "\n",
    "## Q.5 = Create an array which contains value 5 , 10 times ? \n",
    "\n",
    "## Q.6 = Create a one dimensional array and convert that into 3*3 matrix ? \n",
    "\n",
    "## Q.7 = Create a 2D array of size 3*3 but all the elements should be between 0 to 1 ? \n",
    "\n",
    "## Q.8 = Concatenate 2D array horizontally and vertically ? "
   ]
  },
  {
   "cell_type": "code",
   "execution_count": 1,
   "id": "98fe01fd-b724-4a83-958d-e2ce4959f510",
   "metadata": {},
   "outputs": [],
   "source": [
    "import numpy as np"
   ]
  },
  {
   "cell_type": "code",
   "execution_count": 4,
   "id": "99bc8492-caaa-4b7a-a6db-f136accc7236",
   "metadata": {},
   "outputs": [
    {
     "data": {
      "text/plain": [
       "array([2, 4, 5, 7])"
      ]
     },
     "execution_count": 4,
     "metadata": {},
     "output_type": "execute_result"
    }
   ],
   "source": [
    "a = np.array([2,4,5,7])\n",
    "a"
   ]
  },
  {
   "cell_type": "code",
   "execution_count": 6,
   "id": "6e24bbfd-4635-4b8a-a9c2-d17671f1221e",
   "metadata": {},
   "outputs": [
    {
     "data": {
      "text/plain": [
       "array([12, 11, 16,  5,  5,  8, 18,  7,  3,  9])"
      ]
     },
     "execution_count": 6,
     "metadata": {},
     "output_type": "execute_result"
    }
   ],
   "source": [
    "a= np.random.randint(1,20,10)\n",
    "a"
   ]
  },
  {
   "cell_type": "code",
   "execution_count": 7,
   "id": "0098c8dc-7db9-42d2-a2ee-cbe418b41030",
   "metadata": {},
   "outputs": [
    {
     "data": {
      "text/plain": [
       "array([10, 11, 12, 13, 14, 15, 16, 17, 18, 19])"
      ]
     },
     "execution_count": 7,
     "metadata": {},
     "output_type": "execute_result"
    }
   ],
   "source": [
    "a = np.arange(10,20)\n",
    "a"
   ]
  },
  {
   "cell_type": "code",
   "execution_count": 12,
   "id": "b2444de1-cba7-47e3-8d3a-0ec328a7ae01",
   "metadata": {},
   "outputs": [
    {
     "name": "stdout",
     "output_type": "stream",
     "text": [
      "a = [5 5 5 5 5 5 5 5 5 5]\n",
      "b = [5 5 5 5 5 5 5 5 5 5]\n"
     ]
    }
   ],
   "source": [
    "a = np.repeat(5,10)\n",
    "print(\"a =\",a)\n",
    "b=np.full(10,5)\n",
    "print(\"b =\",b)"
   ]
  },
  {
   "cell_type": "code",
   "execution_count": 20,
   "id": "e0605911-e966-4355-8ce5-aed2f5f0573f",
   "metadata": {},
   "outputs": [
    {
     "data": {
      "text/plain": [
       "array([[ 2,  4,  6],\n",
       "       [ 8, 10, 12],\n",
       "       [14, 16, 18]])"
      ]
     },
     "execution_count": 20,
     "metadata": {},
     "output_type": "execute_result"
    }
   ],
   "source": [
    "a = np.array([2,4,6,8,10,12,14,16,18])\n",
    "a = a.reshape(3,3)\n",
    "a\n",
    "#a = np.array([2,4,6,8,10,12,14,16,18]).reshape(3,3)"
   ]
  },
  {
   "cell_type": "code",
   "execution_count": 21,
   "id": "ceb5d53f-e776-45aa-87c6-0c7aa47bf789",
   "metadata": {},
   "outputs": [
    {
     "data": {
      "text/plain": [
       "array([[0.08693154, 0.8701147 , 0.32132401],\n",
       "       [0.53619003, 0.55813012, 0.25486627],\n",
       "       [0.64626369, 0.87320423, 0.16894083]])"
      ]
     },
     "execution_count": 21,
     "metadata": {},
     "output_type": "execute_result"
    }
   ],
   "source": [
    "a = np.random.rand(3,3)\n",
    "a"
   ]
  },
  {
   "cell_type": "code",
   "execution_count": 46,
   "id": "73fbd39d-5f75-46eb-99a3-6cec58410c8e",
   "metadata": {},
   "outputs": [
    {
     "name": "stdout",
     "output_type": "stream",
     "text": [
      "a= [[1 2 3]\n",
      " [4 5 6]]\n",
      "b= [[6 5 4]\n",
      " [3 2 1]]\n",
      "hstack = \n",
      "[[1 2 3 6 5 4]\n",
      " [4 5 6 3 2 1]]\n",
      "vstack = \n",
      "[[1 2 3]\n",
      " [4 5 6]\n",
      " [6 5 4]\n",
      " [3 2 1]]\n"
     ]
    }
   ],
   "source": [
    "a = np.array([1,2,3,4,5,6]).reshape(2,3)\n",
    "print(\"a=\",a)\n",
    "b = np.array([6,5,4,3,2,1]).reshape(2,3)\n",
    "print(\"b=\",b)\n",
    "h=np.hstack((a,b))\n",
    "print(\"hstack = \")\n",
    "print(h)\n",
    "v=np.vstack((a,b))\n",
    "print(\"vstack = \")\n",
    "print(v)"
   ]
  }
 ],
 "metadata": {
  "kernelspec": {
   "display_name": "Python 3 (ipykernel)",
   "language": "python",
   "name": "python3"
  },
  "language_info": {
   "codemirror_mode": {
    "name": "ipython",
    "version": 3
   },
   "file_extension": ".py",
   "mimetype": "text/x-python",
   "name": "python",
   "nbconvert_exporter": "python",
   "pygments_lexer": "ipython3",
   "version": "3.9.0"
  }
 },
 "nbformat": 4,
 "nbformat_minor": 5
}
