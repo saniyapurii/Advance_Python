{
 "cells": [
  {
   "cell_type": "markdown",
   "id": "6c2844a2-8bc1-4e46-be13-523d63ea7a31",
   "metadata": {},
   "source": [
    "## Population ===> All the dataset, Ex:- Country\n",
    "\n",
    "## Sample ===> Subdata of a dataset, Ex:- City\n",
    "\n",
    "## Normal Distribution ===> From central tendancy, we have equal data from left and right side.\n",
    "\n",
    "## Central Tendancy ===> Mean, median, mode\n",
    "##### mean = sum of total elements/frequency(Count) of elements.\n",
    "##### a = 1,2,3,4,5\n",
    "##### mean = (1+2+3+4+5)/5 = 15/5 =3\n",
    "\n",
    "##### median = sort ===> even = n/2, odd = n+1/2\n",
    "##### a=1,2,3,4,5\n",
    "##### median = 1,2,3,4,5\n",
    "##### odd =5+1/2 = 6/2 = 3rd number ==> median =3\n",
    "\n",
    "##### mode = most frequency values\n",
    "##### a=1,2,2,3,2,5\n",
    "##### mode =2"
   ]
  },
  {
   "cell_type": "markdown",
   "id": "93611372-049a-46e8-a2c1-adc6042bfec3",
   "metadata": {},
   "source": [
    "# Machine Learning Workflow\n",
    "\n",
    "### Data(Gathering) ====> Data Preprocessing(Normal Distribution) ==> ML Algorithm ==> Prediction ==> Performance Evolution"
   ]
  },
  {
   "cell_type": "markdown",
   "id": "c06ec15d-6265-4dc7-926d-a9efcc3b66be",
   "metadata": {},
   "source": [
    "# Data Preprocessing Techniques == >"
   ]
  },
  {
   "cell_type": "markdown",
   "id": "eb48060d-950c-4a1a-8e4f-9c7f773b64df",
   "metadata": {},
   "source": [
    "## (1). Standardization == > mean = 0, standard deviation =1\n",
    "#### data ==> Independent data(x), Dependent data(y)\n",
    "#### (x) ===> x_train, x_test\n",
    "#### (y) ===> y_train, y_test"
   ]
  },
  {
   "cell_type": "markdown",
   "id": "6565d729-58f5-483c-a28f-73a64248da51",
   "metadata": {},
   "source": [
    "### machine(training_data) == > Prediction (testing data)"
   ]
  },
  {
   "cell_type": "code",
   "execution_count": 4,
   "id": "53d9ce3c-4725-413d-ae7b-bb032dd72c7f",
   "metadata": {},
   "outputs": [
    {
     "name": "stderr",
     "output_type": "stream",
     "text": [
      "C:\\Users\\DELL\\AppData\\Local\\Temp\\ipykernel_13088\\1662815981.py:2: DeprecationWarning: \n",
      "Pyarrow will become a required dependency of pandas in the next major release of pandas (pandas 3.0),\n",
      "(to allow more performant data types, such as the Arrow string type, and better interoperability with other libraries)\n",
      "but was not found to be installed on your system.\n",
      "If this would cause problems for you,\n",
      "please provide us feedback at https://github.com/pandas-dev/pandas/issues/54466\n",
      "        \n",
      "  import pandas as pd\n"
     ]
    }
   ],
   "source": [
    "import numpy as np\n",
    "import pandas as pd"
   ]
  },
  {
   "cell_type": "code",
   "execution_count": 5,
   "id": "ba739e75-fee8-45f0-8953-133926c93b20",
   "metadata": {},
   "outputs": [],
   "source": [
    "df = pd.read_csv(\"D:\\\\RegexSolution\\\\Python\\\\AdvancePython\\\\Dataset\\\\placement.csv\")"
   ]
  },
  {
   "cell_type": "code",
   "execution_count": 7,
   "id": "dbdf66f4-0730-481c-a4bf-b746acb3df8d",
   "metadata": {},
   "outputs": [
    {
     "data": {
      "text/html": [
       "<div>\n",
       "<style scoped>\n",
       "    .dataframe tbody tr th:only-of-type {\n",
       "        vertical-align: middle;\n",
       "    }\n",
       "\n",
       "    .dataframe tbody tr th {\n",
       "        vertical-align: top;\n",
       "    }\n",
       "\n",
       "    .dataframe thead th {\n",
       "        text-align: right;\n",
       "    }\n",
       "</style>\n",
       "<table border=\"1\" class=\"dataframe\">\n",
       "  <thead>\n",
       "    <tr style=\"text-align: right;\">\n",
       "      <th></th>\n",
       "      <th>cgpa</th>\n",
       "      <th>resume_score</th>\n",
       "      <th>placed</th>\n",
       "    </tr>\n",
       "  </thead>\n",
       "  <tbody>\n",
       "    <tr>\n",
       "      <th>0</th>\n",
       "      <td>8.14</td>\n",
       "      <td>6.52</td>\n",
       "      <td>1</td>\n",
       "    </tr>\n",
       "    <tr>\n",
       "      <th>1</th>\n",
       "      <td>6.17</td>\n",
       "      <td>5.17</td>\n",
       "      <td>0</td>\n",
       "    </tr>\n",
       "  </tbody>\n",
       "</table>\n",
       "</div>"
      ],
      "text/plain": [
       "   cgpa  resume_score  placed\n",
       "0  8.14          6.52       1\n",
       "1  6.17          5.17       0"
      ]
     },
     "execution_count": 7,
     "metadata": {},
     "output_type": "execute_result"
    }
   ],
   "source": [
    "df.head(2)"
   ]
  },
  {
   "cell_type": "code",
   "execution_count": 34,
   "id": "221b21f7-b28f-42c6-a409-d0e6c003faf7",
   "metadata": {},
   "outputs": [
    {
     "data": {
      "text/plain": [
       "pandas.core.frame.DataFrame"
      ]
     },
     "execution_count": 34,
     "metadata": {},
     "output_type": "execute_result"
    }
   ],
   "source": [
    "x = df.drop(columns= ['placed'], axis=1) ### Independent data type(x)\n",
    "type(x)"
   ]
  },
  {
   "cell_type": "code",
   "execution_count": 20,
   "id": "720a6741-63fd-41fd-8090-a61d410f0ad1",
   "metadata": {},
   "outputs": [
    {
     "data": {
      "text/html": [
       "<div>\n",
       "<style scoped>\n",
       "    .dataframe tbody tr th:only-of-type {\n",
       "        vertical-align: middle;\n",
       "    }\n",
       "\n",
       "    .dataframe tbody tr th {\n",
       "        vertical-align: top;\n",
       "    }\n",
       "\n",
       "    .dataframe thead th {\n",
       "        text-align: right;\n",
       "    }\n",
       "</style>\n",
       "<table border=\"1\" class=\"dataframe\">\n",
       "  <thead>\n",
       "    <tr style=\"text-align: right;\">\n",
       "      <th></th>\n",
       "      <th>cgpa</th>\n",
       "      <th>resume_score</th>\n",
       "    </tr>\n",
       "  </thead>\n",
       "  <tbody>\n",
       "    <tr>\n",
       "      <th>0</th>\n",
       "      <td>8.14</td>\n",
       "      <td>6.52</td>\n",
       "    </tr>\n",
       "    <tr>\n",
       "      <th>1</th>\n",
       "      <td>6.17</td>\n",
       "      <td>5.17</td>\n",
       "    </tr>\n",
       "  </tbody>\n",
       "</table>\n",
       "</div>"
      ],
      "text/plain": [
       "   cgpa  resume_score\n",
       "0  8.14          6.52\n",
       "1  6.17          5.17"
      ]
     },
     "execution_count": 20,
     "metadata": {},
     "output_type": "execute_result"
    }
   ],
   "source": [
    "x.head(2)"
   ]
  },
  {
   "cell_type": "code",
   "execution_count": 22,
   "id": "d46e6222-9d32-431b-90fc-8e06d0c65d7f",
   "metadata": {},
   "outputs": [],
   "source": [
    "y = df['placed'] ## Dependent or target data"
   ]
  },
  {
   "cell_type": "code",
   "execution_count": 29,
   "id": "5d723810-28cf-4ce7-9be9-c139275e9868",
   "metadata": {},
   "outputs": [
    {
     "name": "stdout",
     "output_type": "stream",
     "text": [
      "Total data shape = (100, 3)\n",
      "Independent data shape =  (100, 2)\n",
      "Independent data shape=  (100,)\n"
     ]
    }
   ],
   "source": [
    "print(\"Total data shape =\", df.shape)\n",
    "print(\"Independent data shape = \",x.shape) \n",
    "print(\"Independent data shape= \",y.shape)"
   ]
  },
  {
   "cell_type": "code",
   "execution_count": 41,
   "id": "73a8d9ae-619e-419b-8a82-a1c7b8a3f42c",
   "metadata": {},
   "outputs": [],
   "source": [
    "#!pip install scikit-learn"
   ]
  },
  {
   "cell_type": "code",
   "execution_count": 37,
   "id": "095f0b5e-bc0e-4ce6-b991-e065d0d08f7c",
   "metadata": {},
   "outputs": [],
   "source": [
    "from sklearn.model_selection import train_test_split"
   ]
  },
  {
   "cell_type": "code",
   "execution_count": 38,
   "id": "85de27b7-5a6b-4ad5-b275-5f9b1434b61d",
   "metadata": {},
   "outputs": [],
   "source": [
    "x_train, x_test, y_train, y_test = train_test_split(x,y,test_size=0.2, random_state = 42)"
   ]
  },
  {
   "cell_type": "code",
   "execution_count": 39,
   "id": "1ca20647-29dd-4410-9461-74220c0a7bdc",
   "metadata": {},
   "outputs": [
    {
     "name": "stdout",
     "output_type": "stream",
     "text": [
      "Total data shape = (100, 3)\n",
      "Independent data shape =  (100, 2)\n",
      "Independent data shape=  (100,)\n",
      "X_train, data shape= (80, 2)\n",
      "x_test data shape =  (20, 2)\n",
      "Y_train data shape = (80,)\n",
      "Y_test data shape = (20,)\n"
     ]
    }
   ],
   "source": [
    "print(\"Total data shape =\", df.shape)\n",
    "print(\"Independent data shape = \",x.shape) \n",
    "print(\"Independent data shape= \",y.shape)\n",
    "print(\"X_train, data shape=\", x_train.shape)\n",
    "print(\"x_test data shape = \", x_test.shape)\n",
    "print(\"Y_train data shape =\", y_train.shape)\n",
    "print(\"Y_test data shape =\", y_test.shape)"
   ]
  },
  {
   "cell_type": "code",
   "execution_count": 40,
   "id": "cfe833fe-0def-49e7-808f-82aabe04197c",
   "metadata": {},
   "outputs": [],
   "source": [
    "#covid, tips, titanic"
   ]
  },
  {
   "cell_type": "code",
   "execution_count": null,
   "id": "d70ac3e4-4dd6-4d42-8501-5b31288adc44",
   "metadata": {},
   "outputs": [],
   "source": []
  }
 ],
 "metadata": {
  "kernelspec": {
   "display_name": "Python 3 (ipykernel)",
   "language": "python",
   "name": "python3"
  },
  "language_info": {
   "codemirror_mode": {
    "name": "ipython",
    "version": 3
   },
   "file_extension": ".py",
   "mimetype": "text/x-python",
   "name": "python",
   "nbconvert_exporter": "python",
   "pygments_lexer": "ipython3",
   "version": "3.9.0"
  }
 },
 "nbformat": 4,
 "nbformat_minor": 5
}
