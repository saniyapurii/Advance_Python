{
 "cells": [
  {
   "cell_type": "code",
   "execution_count": 4,
   "id": "949f0877-14f2-4fd6-bdee-932b48ea69cc",
   "metadata": {},
   "outputs": [],
   "source": [
    "import numpy as np"
   ]
  },
  {
   "cell_type": "markdown",
   "id": "7a5dc8af-1112-4ffe-be48-bed71897ed38",
   "metadata": {},
   "source": [
    "# 4 . diag ==> This function creats a two dimensional array with all the digonal elements as the given value and rest are zero . "
   ]
  },
  {
   "cell_type": "code",
   "execution_count": 3,
   "id": "0e74988e-7ea1-46e8-a14b-2a06b37134d8",
   "metadata": {},
   "outputs": [
    {
     "data": {
      "text/plain": [
       "array([[1, 0, 0, 0],\n",
       "       [0, 4, 0, 0],\n",
       "       [0, 0, 8, 0],\n",
       "       [0, 0, 0, 9]])"
      ]
     },
     "execution_count": 3,
     "metadata": {},
     "output_type": "execute_result"
    }
   ],
   "source": [
    "a = np.diag([1,4,8,9])\n",
    "a"
   ]
  },
  {
   "cell_type": "markdown",
   "id": "bfda5e83-b710-48a7-b6de-5f644bec78e8",
   "metadata": {},
   "source": [
    "# 5. randint ==> This function is used to generate a random number between a given range."
   ]
  },
  {
   "cell_type": "markdown",
   "id": "0a0d771f-5c37-407f-b1f2-8c53d8ddc590",
   "metadata": {},
   "source": [
    "## syntax== randint(min_value, max_value, total_numbers)"
   ]
  },
  {
   "cell_type": "code",
   "execution_count": 91,
   "id": "ba34551f-ec32-4bfb-8e25-c50fa591c589",
   "metadata": {},
   "outputs": [
    {
     "data": {
      "text/plain": [
       "array([4, 6, 5])"
      ]
     },
     "execution_count": 91,
     "metadata": {},
     "output_type": "execute_result"
    }
   ],
   "source": [
    "a =np.random.randint(1,10,3)\n",
    "a"
   ]
  },
  {
   "cell_type": "markdown",
   "id": "80af235a-d61a-45e3-bc5d-2ece174f1a60",
   "metadata": {},
   "source": [
    "# 6. rand() ==> This function is used to generate a random number between 0 to 1"
   ]
  },
  {
   "cell_type": "markdown",
   "id": "2aa6c12c-8b39-471e-b37a-78a86432f3c9",
   "metadata": {},
   "source": [
    "## syntax == rand(numberofvalues)"
   ]
  },
  {
   "cell_type": "code",
   "execution_count": 92,
   "id": "ba241e29-e302-44db-b5d8-4094073d41d3",
   "metadata": {},
   "outputs": [
    {
     "data": {
      "text/plain": [
       "array([0.01541429, 0.2656121 , 0.82728314, 0.83457956, 0.86875138])"
      ]
     },
     "execution_count": 92,
     "metadata": {},
     "output_type": "execute_result"
    }
   ],
   "source": [
    "a = np.random.rand(5)\n",
    "a"
   ]
  },
  {
   "cell_type": "markdown",
   "id": "9ad5dab8-7fef-4413-bd16-f00bf8c89bdd",
   "metadata": {},
   "source": [
    "# 7. randn() ==> This function is used to generate a random number from -3 to close 3. This may return positive or negative as well."
   ]
  },
  {
   "cell_type": "markdown",
   "id": "6df18321-34e7-48be-819d-0e5c6be03c3d",
   "metadata": {},
   "source": [
    "## syntax == random.randn(number of values)"
   ]
  },
  {
   "cell_type": "code",
   "execution_count": 13,
   "id": "846c2bc9-e2e9-4afe-bb02-32718acdb1be",
   "metadata": {},
   "outputs": [
    {
     "data": {
      "text/plain": [
       "array([36, 18,  2, 30, 12, 27, 42,  8,  6, 34, 34, 28])"
      ]
     },
     "execution_count": 13,
     "metadata": {},
     "output_type": "execute_result"
    }
   ],
   "source": [
    "a = np.random.randint(1,50,12)\n",
    "a"
   ]
  },
  {
   "cell_type": "markdown",
   "id": "6d6f715e-2955-42ee-b63a-67b698cb858f",
   "metadata": {},
   "source": [
    "# Reshaping Data"
   ]
  },
  {
   "cell_type": "code",
   "execution_count": 15,
   "id": "a8b49f3b-b41f-45e6-82b0-4c34f6a52953",
   "metadata": {},
   "outputs": [
    {
     "data": {
      "text/plain": [
       "array([32, 47, 36, 27, 18, 13, 14, 39, 13, 16, 11, 23])"
      ]
     },
     "execution_count": 15,
     "metadata": {},
     "output_type": "execute_result"
    }
   ],
   "source": [
    "import numpy as np\n",
    "a = np.random.randint(1,50,12)\n",
    "a"
   ]
  },
  {
   "cell_type": "code",
   "execution_count": 16,
   "id": "2c9117a9-26bb-4193-9d4d-f495b6faced1",
   "metadata": {},
   "outputs": [],
   "source": [
    "#n(rows) * n(columns) = n(total_elements)"
   ]
  },
  {
   "cell_type": "code",
   "execution_count": 17,
   "id": "8621ae7f-dd3d-404f-a4bf-1a528605c718",
   "metadata": {},
   "outputs": [
    {
     "data": {
      "text/plain": [
       "(12,)"
      ]
     },
     "execution_count": 17,
     "metadata": {},
     "output_type": "execute_result"
    }
   ],
   "source": [
    "a.shape"
   ]
  },
  {
   "cell_type": "code",
   "execution_count": 18,
   "id": "c88ee79e-00fd-4649-bb00-6ff97e6c36e0",
   "metadata": {},
   "outputs": [
    {
     "data": {
      "text/plain": [
       "array([[32, 47, 36, 27, 18, 13],\n",
       "       [14, 39, 13, 16, 11, 23]])"
      ]
     },
     "execution_count": 18,
     "metadata": {},
     "output_type": "execute_result"
    }
   ],
   "source": [
    "a = a.reshape(2,6)\n",
    "a"
   ]
  },
  {
   "cell_type": "code",
   "execution_count": 19,
   "id": "2f81ed25-f790-400e-99ec-4b3cde0fccce",
   "metadata": {},
   "outputs": [
    {
     "data": {
      "text/plain": [
       "array([[32, 47],\n",
       "       [36, 27],\n",
       "       [18, 13],\n",
       "       [14, 39],\n",
       "       [13, 16],\n",
       "       [11, 23]])"
      ]
     },
     "execution_count": 19,
     "metadata": {},
     "output_type": "execute_result"
    }
   ],
   "source": [
    "a =a.reshape(6,2)\n",
    "a"
   ]
  },
  {
   "cell_type": "code",
   "execution_count": 21,
   "id": "2f2fc76c-316d-4a67-a1c3-dc0c15af41f7",
   "metadata": {},
   "outputs": [
    {
     "data": {
      "text/plain": [
       "array([[32, 47, 36],\n",
       "       [27, 18, 13],\n",
       "       [14, 39, 13],\n",
       "       [16, 11, 23]])"
      ]
     },
     "execution_count": 21,
     "metadata": {},
     "output_type": "execute_result"
    }
   ],
   "source": [
    "a =a.reshape(4,3)\n",
    "a"
   ]
  },
  {
   "cell_type": "code",
   "execution_count": 22,
   "id": "34ed36b5-bc16-403a-90c2-12a7a6f28883",
   "metadata": {},
   "outputs": [
    {
     "data": {
      "text/plain": [
       "array([[32, 47, 36, 27],\n",
       "       [18, 13, 14, 39],\n",
       "       [13, 16, 11, 23]])"
      ]
     },
     "execution_count": 22,
     "metadata": {},
     "output_type": "execute_result"
    }
   ],
   "source": [
    "a =a.reshape(3,4)\n",
    "a"
   ]
  },
  {
   "cell_type": "code",
   "execution_count": 23,
   "id": "851b8655-79cf-49c5-a961-3c25e925325b",
   "metadata": {},
   "outputs": [
    {
     "data": {
      "text/plain": [
       "array([[32],\n",
       "       [47],\n",
       "       [36],\n",
       "       [27],\n",
       "       [18],\n",
       "       [13],\n",
       "       [14],\n",
       "       [39],\n",
       "       [13],\n",
       "       [16],\n",
       "       [11],\n",
       "       [23]])"
      ]
     },
     "execution_count": 23,
     "metadata": {},
     "output_type": "execute_result"
    }
   ],
   "source": [
    "a =a.reshape(12,1)\n",
    "a"
   ]
  },
  {
   "cell_type": "code",
   "execution_count": 24,
   "id": "f2892a0a-6ce7-4f1a-8672-1179e66fae86",
   "metadata": {},
   "outputs": [
    {
     "ename": "ValueError",
     "evalue": "cannot reshape array of size 12 into shape (10,3)",
     "output_type": "error",
     "traceback": [
      "\u001b[1;31m---------------------------------------------------------------------------\u001b[0m",
      "\u001b[1;31mValueError\u001b[0m                                Traceback (most recent call last)",
      "Cell \u001b[1;32mIn[24], line 1\u001b[0m\n\u001b[1;32m----> 1\u001b[0m a \u001b[38;5;241m=\u001b[39m \u001b[43ma\u001b[49m\u001b[38;5;241;43m.\u001b[39;49m\u001b[43mreshape\u001b[49m\u001b[43m(\u001b[49m\u001b[38;5;241;43m10\u001b[39;49m\u001b[43m,\u001b[49m\u001b[38;5;241;43m3\u001b[39;49m\u001b[43m)\u001b[49m\n\u001b[0;32m      2\u001b[0m a\n",
      "\u001b[1;31mValueError\u001b[0m: cannot reshape array of size 12 into shape (10,3)"
     ]
    }
   ],
   "source": [
    "a = a.reshape(10,3)\n",
    "a"
   ]
  },
  {
   "cell_type": "markdown",
   "id": "f61a2815-072a-481e-beef-8d58366c4f67",
   "metadata": {},
   "source": [
    "# Principal of -1"
   ]
  },
  {
   "cell_type": "code",
   "execution_count": 25,
   "id": "d5358a30-108c-4c25-a145-4e72be7da5c9",
   "metadata": {},
   "outputs": [
    {
     "data": {
      "text/plain": [
       "array([[32, 47, 36, 27],\n",
       "       [18, 13, 14, 39],\n",
       "       [13, 16, 11, 23]])"
      ]
     },
     "execution_count": 25,
     "metadata": {},
     "output_type": "execute_result"
    }
   ],
   "source": [
    "a = a.reshape(-1, 4)\n",
    "a"
   ]
  },
  {
   "cell_type": "markdown",
   "id": "f295ecd2-a858-4b54-85c1-3af0149fad1b",
   "metadata": {},
   "source": [
    "# Seed Function() ==> We know that randint function generates random numbers.Everytime we run the program, new set of random number is generated. So, to solve this problem we will use seed function"
   ]
  },
  {
   "cell_type": "code",
   "execution_count": 27,
   "id": "e86205ba-c04a-4af1-ba3f-32ae63b25a69",
   "metadata": {},
   "outputs": [
    {
     "data": {
      "text/plain": [
       "array([79, 62, 17, 74,  9, 63, 28, 31, 81,  8])"
      ]
     },
     "execution_count": 27,
     "metadata": {},
     "output_type": "execute_result"
    }
   ],
   "source": [
    "np.random.seed(5)\n",
    "a=np.random.randint(1,100,10)\n",
    "a"
   ]
  },
  {
   "cell_type": "code",
   "execution_count": 28,
   "id": "950502a9-91e8-471d-88af-2309ee59cf9a",
   "metadata": {},
   "outputs": [
    {
     "data": {
      "text/plain": [
       "array([85, 85, 85, 87, 20, 42, 67, 83, 41, 72])"
      ]
     },
     "execution_count": 28,
     "metadata": {},
     "output_type": "execute_result"
    }
   ],
   "source": [
    "np.random.seed(111)\n",
    "a=np.random.randint(1,100,10)\n",
    "a"
   ]
  },
  {
   "cell_type": "markdown",
   "id": "a5414396-6128-4afd-9689-ec9b7e76a3e4",
   "metadata": {},
   "source": [
    "# View Vs Copy ==> when we slice a sub-array from an array, it may be done by two ways."
   ]
  },
  {
   "cell_type": "code",
   "execution_count": 30,
   "id": "d17c47b4-860e-4ad3-83f8-3a8589f33bc7",
   "metadata": {},
   "outputs": [
    {
     "data": {
      "text/plain": [
       "array([10, 20, 30,  0,  0,  0, 70, 80])"
      ]
     },
     "execution_count": 30,
     "metadata": {},
     "output_type": "execute_result"
    }
   ],
   "source": [
    "a = np.array([10, 20, 30, 40, 50, 60, 70, 80])\n",
    "b= a[3:6]\n",
    "b[:] = 0\n",
    "a"
   ]
  },
  {
   "cell_type": "markdown",
   "id": "900594cd-6543-4955-9449-733e220aa0c7",
   "metadata": {},
   "source": [
    "## copy"
   ]
  },
  {
   "cell_type": "code",
   "execution_count": 32,
   "id": "104b0394-0985-4dde-b90d-89fa0a75d4de",
   "metadata": {},
   "outputs": [
    {
     "data": {
      "text/plain": [
       "array([10, 20, 30, 40, 50, 60, 70, 80])"
      ]
     },
     "execution_count": 32,
     "metadata": {},
     "output_type": "execute_result"
    }
   ],
   "source": [
    "a = np.array([10, 20, 30, 40, 50, 60, 70, 80])\n",
    "b= a[3:6].copy()\n",
    "b[:] = 0\n",
    "a"
   ]
  },
  {
   "cell_type": "code",
   "execution_count": 33,
   "id": "7c0bd9b7-d813-4668-8f54-0ce2e49955ad",
   "metadata": {},
   "outputs": [
    {
     "data": {
      "text/plain": [
       "array([0, 0, 0])"
      ]
     },
     "execution_count": 33,
     "metadata": {},
     "output_type": "execute_result"
    }
   ],
   "source": [
    "b"
   ]
  },
  {
   "cell_type": "markdown",
   "id": "edf7beaa-85cc-46be-a5ea-34e8343462d1",
   "metadata": {},
   "source": [
    "## conditonal Selection"
   ]
  },
  {
   "cell_type": "code",
   "execution_count": 36,
   "id": "452c95a6-1928-4404-86d0-514b479ecd50",
   "metadata": {},
   "outputs": [
    {
     "data": {
      "text/plain": [
       "array([ 1,  2,  3,  4,  5,  6,  7,  8,  9, 10, 11, 12, 13, 14, 15])"
      ]
     },
     "execution_count": 36,
     "metadata": {},
     "output_type": "execute_result"
    }
   ],
   "source": [
    "a = np.arange(1,16)\n",
    "a"
   ]
  },
  {
   "cell_type": "code",
   "execution_count": 37,
   "id": "bb50c58c-0371-404c-b511-a82302919673",
   "metadata": {},
   "outputs": [
    {
     "data": {
      "text/plain": [
       "array([False, False, False, False, False, False, False, False, False,\n",
       "       False,  True,  True,  True,  True,  True])"
      ]
     },
     "execution_count": 37,
     "metadata": {},
     "output_type": "execute_result"
    }
   ],
   "source": [
    "a>10"
   ]
  },
  {
   "cell_type": "code",
   "execution_count": 38,
   "id": "cfb1f899-1ab1-4829-ad56-eb50c7dfc080",
   "metadata": {},
   "outputs": [
    {
     "data": {
      "text/plain": [
       "array([ True,  True,  True,  True,  True,  True,  True,  True,  True,\n",
       "       False, False, False, False, False, False])"
      ]
     },
     "execution_count": 38,
     "metadata": {},
     "output_type": "execute_result"
    }
   ],
   "source": [
    "a<10"
   ]
  },
  {
   "cell_type": "code",
   "execution_count": 43,
   "id": "ea321f1f-052d-44b4-8f45-70320b293942",
   "metadata": {},
   "outputs": [
    {
     "data": {
      "text/plain": [
       "array([11, 12, 13, 14, 15])"
      ]
     },
     "execution_count": 43,
     "metadata": {},
     "output_type": "execute_result"
    }
   ],
   "source": [
    "b = a>10\n",
    "(a[b])"
   ]
  },
  {
   "cell_type": "code",
   "execution_count": 44,
   "id": "83bb35c0-4da2-425d-8ba3-3d960d59738d",
   "metadata": {},
   "outputs": [
    {
     "name": "stdout",
     "output_type": "stream",
     "text": [
      "[11 12 13 14 15]\n"
     ]
    }
   ],
   "source": [
    "b = a>10\n",
    "print(a[b])"
   ]
  },
  {
   "cell_type": "code",
   "execution_count": 41,
   "id": "f3016446-d17f-49cf-a31a-e97612a79aa6",
   "metadata": {},
   "outputs": [
    {
     "name": "stdout",
     "output_type": "stream",
     "text": [
      "[False False False False False False False False False False  True  True\n",
      "  True  True  True]\n"
     ]
    }
   ],
   "source": [
    "a[a%2 == 0]\n",
    "="
   ]
  },
  {
   "cell_type": "markdown",
   "id": "d53bdd08-aabd-46d5-aaa4-992043647f91",
   "metadata": {},
   "source": [
    "## operations on array"
   ]
  },
  {
   "cell_type": "code",
   "execution_count": 48,
   "id": "bd530c69-5670-49d0-b237-fdf6eaa4bed6",
   "metadata": {},
   "outputs": [
    {
     "name": "stdout",
     "output_type": "stream",
     "text": [
      "[1, 2, 3, 4, 1, 2, 3, 4]\n"
     ]
    }
   ],
   "source": [
    "a = [1, 2, 3, 4]\n",
    "a=a*2\n",
    "print(a)"
   ]
  },
  {
   "cell_type": "code",
   "execution_count": 50,
   "id": "9501ac93-840c-4dd0-aafd-ce787349aa9f",
   "metadata": {},
   "outputs": [
    {
     "data": {
      "text/plain": [
       "array([1, 2, 3, 4])"
      ]
     },
     "execution_count": 50,
     "metadata": {},
     "output_type": "execute_result"
    }
   ],
   "source": [
    "a =np.array([1,2,3,4])\n",
    "a"
   ]
  },
  {
   "cell_type": "code",
   "execution_count": 51,
   "id": "69da83b3-897e-455a-a21d-b1f18015b47a",
   "metadata": {},
   "outputs": [
    {
     "data": {
      "text/plain": [
       "array([2, 4, 6, 8])"
      ]
     },
     "execution_count": 51,
     "metadata": {},
     "output_type": "execute_result"
    }
   ],
   "source": [
    "a*2"
   ]
  },
  {
   "cell_type": "code",
   "execution_count": 53,
   "id": "e90c8f4f-7be0-4ac9-be0a-47fde5e73fa6",
   "metadata": {},
   "outputs": [
    {
     "data": {
      "text/plain": [
       "array([2, 4, 6, 8])"
      ]
     },
     "execution_count": 53,
     "metadata": {},
     "output_type": "execute_result"
    }
   ],
   "source": [
    "a = np.arange(1,5)\n",
    "a*2"
   ]
  },
  {
   "cell_type": "code",
   "execution_count": 54,
   "id": "727555d7-fdf5-404e-b37f-2c4d6dd50f87",
   "metadata": {},
   "outputs": [
    {
     "data": {
      "text/plain": [
       "array([3, 4, 5, 6])"
      ]
     },
     "execution_count": 54,
     "metadata": {},
     "output_type": "execute_result"
    }
   ],
   "source": [
    "a+2"
   ]
  },
  {
   "cell_type": "code",
   "execution_count": 55,
   "id": "22dd69d1-6ab9-4d12-a48e-db6af529fe62",
   "metadata": {},
   "outputs": [
    {
     "data": {
      "text/plain": [
       "array([ 1,  4,  9, 16])"
      ]
     },
     "execution_count": 55,
     "metadata": {},
     "output_type": "execute_result"
    }
   ],
   "source": [
    "a**2"
   ]
  },
  {
   "cell_type": "code",
   "execution_count": 60,
   "id": "306877a1-5775-4635-adbf-91a324996913",
   "metadata": {},
   "outputs": [
    {
     "data": {
      "text/plain": [
       "array([[1, 2],\n",
       "       [3, 4]])"
      ]
     },
     "execution_count": 60,
     "metadata": {},
     "output_type": "execute_result"
    }
   ],
   "source": [
    "a = np.array([1,2,3,4]).reshape(2,2)\n",
    "a"
   ]
  },
  {
   "cell_type": "code",
   "execution_count": 61,
   "id": "9b656e14-82a7-48ea-976c-49edd4802f29",
   "metadata": {},
   "outputs": [
    {
     "data": {
      "text/plain": [
       "array([[5, 6],\n",
       "       [7, 8]])"
      ]
     },
     "execution_count": 61,
     "metadata": {},
     "output_type": "execute_result"
    }
   ],
   "source": [
    "b = np.array([5, 6, 7, 8]).reshape(2,2)\n",
    "b"
   ]
  },
  {
   "cell_type": "code",
   "execution_count": 62,
   "id": "b06aa626-4d67-4fe0-972e-dbd24a3fcf32",
   "metadata": {},
   "outputs": [
    {
     "data": {
      "text/plain": [
       "array([[ 6,  8],\n",
       "       [10, 12]])"
      ]
     },
     "execution_count": 62,
     "metadata": {},
     "output_type": "execute_result"
    }
   ],
   "source": [
    "a+b"
   ]
  },
  {
   "cell_type": "code",
   "execution_count": 63,
   "id": "08677d2c-0458-4b27-917b-dd2df36c044b",
   "metadata": {},
   "outputs": [
    {
     "data": {
      "text/plain": [
       "array([[4, 4],\n",
       "       [4, 4]])"
      ]
     },
     "execution_count": 63,
     "metadata": {},
     "output_type": "execute_result"
    }
   ],
   "source": [
    "b-a"
   ]
  },
  {
   "cell_type": "code",
   "execution_count": 64,
   "id": "2991b121-0ade-4a1c-a438-3f928a6fd7f2",
   "metadata": {},
   "outputs": [
    {
     "data": {
      "text/plain": [
       "array([[5.        , 3.        ],\n",
       "       [2.33333333, 2.        ]])"
      ]
     },
     "execution_count": 64,
     "metadata": {},
     "output_type": "execute_result"
    }
   ],
   "source": [
    "b/a"
   ]
  },
  {
   "cell_type": "code",
   "execution_count": 65,
   "id": "837a5f6a-b98c-418b-a1ae-038e2b05dd07",
   "metadata": {},
   "outputs": [
    {
     "data": {
      "text/plain": [
       "array([[ 5, 12],\n",
       "       [21, 32]])"
      ]
     },
     "execution_count": 65,
     "metadata": {},
     "output_type": "execute_result"
    }
   ],
   "source": [
    "a*b"
   ]
  },
  {
   "cell_type": "code",
   "execution_count": 66,
   "id": "f6ffdd93-1ba6-42f1-8a01-79aabf1311ed",
   "metadata": {},
   "outputs": [
    {
     "data": {
      "text/plain": [
       "array([[19, 22],\n",
       "       [43, 50]])"
      ]
     },
     "execution_count": 66,
     "metadata": {},
     "output_type": "execute_result"
    }
   ],
   "source": [
    "a.dot(b)"
   ]
  },
  {
   "cell_type": "markdown",
   "id": "33268b30-b49b-4b24-9cb8-bb7bc34def6e",
   "metadata": {},
   "source": [
    "# some more important numpy functions"
   ]
  },
  {
   "cell_type": "code",
   "execution_count": 67,
   "id": "ae237728-05f8-425b-9e47-61081b34d3e6",
   "metadata": {},
   "outputs": [
    {
     "data": {
      "text/plain": [
       "10"
      ]
     },
     "execution_count": 67,
     "metadata": {},
     "output_type": "execute_result"
    }
   ],
   "source": [
    "a = np.array([10,20,30,40,50])\n",
    "np.min(a)"
   ]
  },
  {
   "cell_type": "code",
   "execution_count": 68,
   "id": "9a68dc65-5c36-4084-9bd8-a0c69651efea",
   "metadata": {},
   "outputs": [
    {
     "data": {
      "text/plain": [
       "50"
      ]
     },
     "execution_count": 68,
     "metadata": {},
     "output_type": "execute_result"
    }
   ],
   "source": [
    "np.max(a)"
   ]
  },
  {
   "cell_type": "code",
   "execution_count": 69,
   "id": "2463778d-71b5-4c5f-8d17-502c99b6f1c1",
   "metadata": {},
   "outputs": [
    {
     "data": {
      "text/plain": [
       "0"
      ]
     },
     "execution_count": 69,
     "metadata": {},
     "output_type": "execute_result"
    }
   ],
   "source": [
    "np.argmin(a)"
   ]
  },
  {
   "cell_type": "code",
   "execution_count": 70,
   "id": "399270f6-a67e-4c86-a3e2-7407195bf9a2",
   "metadata": {},
   "outputs": [
    {
     "data": {
      "text/plain": [
       "4"
      ]
     },
     "execution_count": 70,
     "metadata": {},
     "output_type": "execute_result"
    }
   ],
   "source": [
    "np.argmax(a)"
   ]
  },
  {
   "cell_type": "code",
   "execution_count": 71,
   "id": "6da135ce-7ca3-4c29-b905-7b9916364aae",
   "metadata": {},
   "outputs": [
    {
     "data": {
      "text/plain": [
       "array([3.16227766, 4.47213595, 5.47722558, 6.32455532, 7.07106781])"
      ]
     },
     "execution_count": 71,
     "metadata": {},
     "output_type": "execute_result"
    }
   ],
   "source": [
    "np.sqrt(a)"
   ]
  },
  {
   "cell_type": "code",
   "execution_count": 72,
   "id": "6eb29c6a-b7a0-42ad-b454-1a80ba1aa458",
   "metadata": {},
   "outputs": [
    {
     "data": {
      "text/plain": [
       "array([-0.54402111,  0.91294525, -0.98803162,  0.74511316, -0.26237485])"
      ]
     },
     "execution_count": 72,
     "metadata": {},
     "output_type": "execute_result"
    }
   ],
   "source": [
    "np.sin(a)"
   ]
  },
  {
   "cell_type": "markdown",
   "id": "7d00dcfa-01bd-46cb-bc56-c90974ac2fad",
   "metadata": {},
   "source": [
    "# Linspace() ==> This function returns value between a given range and with a same gap between consicutive elements"
   ]
  },
  {
   "cell_type": "code",
   "execution_count": 73,
   "id": "4fb2430e-d614-4dd9-be7b-1334e8e67dde",
   "metadata": {},
   "outputs": [
    {
     "data": {
      "text/plain": [
       "array([1.  , 1.25, 1.5 , 1.75, 2.  ])"
      ]
     },
     "execution_count": 73,
     "metadata": {},
     "output_type": "execute_result"
    }
   ],
   "source": [
    "a = np.linspace(1,2,5)\n",
    "a"
   ]
  },
  {
   "cell_type": "code",
   "execution_count": 74,
   "id": "1a1c91e4-36ec-4d1e-ba02-473d682b10d5",
   "metadata": {},
   "outputs": [
    {
     "data": {
      "text/plain": [
       "array([[16, 11, 13],\n",
       "       [17, 13, 16],\n",
       "       [ 3, 16, 11]])"
      ]
     },
     "execution_count": 74,
     "metadata": {},
     "output_type": "execute_result"
    }
   ],
   "source": [
    "np.random.seed(122)\n",
    "a = np.random.randint(1,21, 9).reshape(3,3)\n",
    "a"
   ]
  },
  {
   "cell_type": "code",
   "execution_count": 75,
   "id": "1ffa923d-44d7-41d4-a565-ddfff54b1415",
   "metadata": {},
   "outputs": [
    {
     "data": {
      "text/plain": [
       "116"
      ]
     },
     "execution_count": 75,
     "metadata": {},
     "output_type": "execute_result"
    }
   ],
   "source": [
    "np.sum(a)"
   ]
  },
  {
   "cell_type": "markdown",
   "id": "c3847e54-90e7-4d6b-af77-649bc2005bdf",
   "metadata": {},
   "source": [
    "# np.unique(arr, return_index =True, return_counts =True)\n",
    "#### returns 3 array, 1 - the array with unque values, 2. the array with respective index value, 3- the array with counting of frequency"
   ]
  },
  {
   "cell_type": "code",
   "execution_count": 76,
   "id": "e28a27b4-9c3e-49e5-bc7d-c11adec0dccb",
   "metadata": {},
   "outputs": [
    {
     "data": {
      "text/plain": [
       "(array([10, 20, 30, 40, 50]),\n",
       " array([0, 1, 2, 3, 6], dtype=int64),\n",
       " array([2, 2, 1, 1, 1], dtype=int64))"
      ]
     },
     "execution_count": 76,
     "metadata": {},
     "output_type": "execute_result"
    }
   ],
   "source": [
    "a= np.array([10,20,30,40,10,20,50])\n",
    "np.unique(a, return_index = True, return_counts =True)"
   ]
  },
  {
   "cell_type": "markdown",
   "id": "893e9206-7ced-4ed2-9bad-18a03dee0ea6",
   "metadata": {},
   "source": [
    "# horizontal and vertical stacking"
   ]
  },
  {
   "cell_type": "code",
   "execution_count": 78,
   "id": "cc34d969-7f4b-4043-8979-373b692ab83f",
   "metadata": {},
   "outputs": [
    {
     "data": {
      "text/plain": [
       "array([1, 2, 3, 4])"
      ]
     },
     "execution_count": 78,
     "metadata": {},
     "output_type": "execute_result"
    }
   ],
   "source": [
    "a = np.array([1,2,3,4])\n",
    "b = np.array([5,6,7,8])\n",
    "a"
   ]
  },
  {
   "cell_type": "code",
   "execution_count": 79,
   "id": "2a3589c8-443a-41cb-b67e-cdcedc98d7f7",
   "metadata": {},
   "outputs": [
    {
     "data": {
      "text/plain": [
       "array([5, 6, 7, 8])"
      ]
     },
     "execution_count": 79,
     "metadata": {},
     "output_type": "execute_result"
    }
   ],
   "source": [
    "b"
   ]
  },
  {
   "cell_type": "code",
   "execution_count": 80,
   "id": "1c159ab4-719b-46e9-b14e-961d77135bd4",
   "metadata": {},
   "outputs": [
    {
     "data": {
      "text/plain": [
       "array([1, 2, 3, 4, 5, 6, 7, 8])"
      ]
     },
     "execution_count": 80,
     "metadata": {},
     "output_type": "execute_result"
    }
   ],
   "source": [
    "np.hstack((a,b))"
   ]
  },
  {
   "cell_type": "code",
   "execution_count": 81,
   "id": "daee5b50-1338-4446-9c80-ad0bed9d9563",
   "metadata": {},
   "outputs": [
    {
     "data": {
      "text/plain": [
       "array([[1, 2, 3, 4],\n",
       "       [5, 6, 7, 8]])"
      ]
     },
     "execution_count": 81,
     "metadata": {},
     "output_type": "execute_result"
    }
   ],
   "source": [
    "np.vstack((a,b))"
   ]
  },
  {
   "cell_type": "markdown",
   "id": "d2e200b1-8051-4c05-98ef-b4ff829a7d2d",
   "metadata": {},
   "source": [
    "## Q.1 = Write statement to import numpy ? \n",
    "\n",
    "## Q.2 = Create an array using numpy ? \n",
    "\n",
    "## Q.3 = Create an array of 10 random integers ?\n",
    "\n",
    "## Q.4 = Create an array of elements from  10-20? \n",
    "\n",
    "## Q.5 = Create an array which contains value 5 , 10 times ? \n",
    "\n",
    "## Q.6 = Create a one dimensional array and convert that into 3*3 matrix ? \n",
    "\n",
    "## Q.7 = Create a 2D array of size 3*3 but all the elements should be between 0 to 1 ? \n",
    "\n",
    "## Q.8 = Concatenate 2D array horizontally and vertically ? "
   ]
  },
  {
   "cell_type": "code",
   "execution_count": 89,
   "id": "e625c309-0d36-493f-b9b8-14a398dded01",
   "metadata": {},
   "outputs": [],
   "source": [
    "#Q.1 = Write statement to import numpy ?\n",
    "import numpy as np\n"
   ]
  },
  {
   "cell_type": "code",
   "execution_count": 90,
   "id": "42f227f6-d300-4581-8ed5-d5bc250b45e1",
   "metadata": {},
   "outputs": [
    {
     "data": {
      "text/plain": [
       "array([ 2,  4,  6,  8, 10])"
      ]
     },
     "execution_count": 90,
     "metadata": {},
     "output_type": "execute_result"
    }
   ],
   "source": [
    "#Q.2 = Create an array using numpy ?\n",
    "a = np.array([2,4,6,8,10])\n",
    "a"
   ]
  },
  {
   "cell_type": "code",
   "execution_count": 88,
   "id": "228a97b7-3b54-4c70-a3c2-2f7f193dc23c",
   "metadata": {},
   "outputs": [
    {
     "data": {
      "text/plain": [
       "array([49, 86, 41, 88,  9, 10, 83, 51, 86, 41])"
      ]
     },
     "execution_count": 88,
     "metadata": {},
     "output_type": "execute_result"
    }
   ],
   "source": [
    "#Q.3 = Create an array of 10 random integers ?\n",
    "a = np.random.randint(1,100, 10)\n",
    "a"
   ]
  },
  {
   "cell_type": "code",
   "execution_count": 96,
   "id": "2fb2065b-01b5-4107-bd6b-0309fe16e5d5",
   "metadata": {},
   "outputs": [
    {
     "data": {
      "text/plain": [
       "array([10, 11, 12, 13, 14, 15, 16, 17, 18, 19])"
      ]
     },
     "execution_count": 96,
     "metadata": {},
     "output_type": "execute_result"
    }
   ],
   "source": [
    "#Q.4 = Create an array of elements from 10-20?\n",
    "a = np.arange(10,20)\n",
    "a"
   ]
  },
  {
   "cell_type": "code",
   "execution_count": 99,
   "id": "e3c8f08c-5d5e-4cc2-a6e4-75774198cab8",
   "metadata": {},
   "outputs": [
    {
     "name": "stdout",
     "output_type": "stream",
     "text": [
      "[5 5 5 5 5 5 5 5 5 5]\n",
      "[5 5 5 5 5 5 5 5 5 5]\n"
     ]
    }
   ],
   "source": [
    "#Q.5 = Create an array which contains value 5 , 10 times ?\n",
    "a = np.repeat(5,10)\n",
    "print(a)\n",
    "a = np.full(10,5)\n",
    "print(a)"
   ]
  },
  {
   "cell_type": "code",
   "execution_count": 108,
   "id": "f0bd7cf9-fbb9-4703-b239-62535d9b8f3d",
   "metadata": {},
   "outputs": [
    {
     "name": "stdout",
     "output_type": "stream",
     "text": [
      "[1 2 3 4 5 6 7 8 9]\n"
     ]
    },
    {
     "data": {
      "text/plain": [
       "array([[1, 2, 3],\n",
       "       [4, 5, 6],\n",
       "       [7, 8, 9]])"
      ]
     },
     "execution_count": 108,
     "metadata": {},
     "output_type": "execute_result"
    }
   ],
   "source": [
    "#Q.6 = Create a one dimensional array and convert that into 3*3 matrix ?\n",
    "a = np.arange(1,10)\n",
    "print(a)\n",
    "a = a.reshape(3,3)\n",
    "a"
   ]
  },
  {
   "cell_type": "code",
   "execution_count": 111,
   "id": "9a0a0fe0-4ed7-4dc1-9308-a52e713cbbc7",
   "metadata": {},
   "outputs": [
    {
     "data": {
      "text/plain": [
       "array([[0.10903951, 0.01611699, 0.88367645],\n",
       "       [0.20085906, 0.43598384, 0.60957201],\n",
       "       [0.81030221, 0.93500256, 0.75083009]])"
      ]
     },
     "execution_count": 111,
     "metadata": {},
     "output_type": "execute_result"
    }
   ],
   "source": [
    "#Q.7 = Create a 2D array of size 3*3 but all the elements should be between 0 to 1 ?\n",
    "a = np.random.rand(3,3)\n",
    "a"
   ]
  },
  {
   "cell_type": "code",
   "execution_count": 133,
   "id": "8ed45209-843b-467f-823e-760622bd755b",
   "metadata": {},
   "outputs": [
    {
     "name": "stdout",
     "output_type": "stream",
     "text": [
      "a = [12  9 10 11 11  9]\n",
      "[[12  9]\n",
      " [10 11]\n",
      " [11  9]]\n",
      "b = [ 5  2 10  2 11 10]\n",
      "[[ 5  2]\n",
      " [10  2]\n",
      " [11 10]]\n",
      "hstack = \n",
      "[[12  9  5  2]\n",
      " [10 11 10  2]\n",
      " [11  9 11 10]]\n",
      "vstack =\n",
      "[[12  9]\n",
      " [10 11]\n",
      " [11  9]\n",
      " [ 5  2]\n",
      " [10  2]\n",
      " [11 10]]\n"
     ]
    }
   ],
   "source": [
    "#Q.8 = Concatenate 2D array horizontally and vertically ?\n",
    "a = np.random.randint(1,15, 6)\n",
    "print(\"a =\", a)\n",
    "a=a.reshape(3,2)\n",
    "print(a)\n",
    "\n",
    "b=np.random.randint(1,15,6)\n",
    "print(\"b =\", b)\n",
    "b=b.reshape(3,2)\n",
    "print(b)\n",
    "\n",
    "hstack = np.hstack((a,b))\n",
    "print(\"hstack = \")\n",
    "print(hstack)\n",
    "\n",
    "vstack = np.vstack((a,b))\n",
    "print(\"vstack =\")\n",
    "print(vstack)"
   ]
  },
  {
   "cell_type": "code",
   "execution_count": null,
   "id": "65d5836c-6770-43a9-80ae-93938d0df9a9",
   "metadata": {},
   "outputs": [],
   "source": []
  }
 ],
 "metadata": {
  "kernelspec": {
   "display_name": "Python 3 (ipykernel)",
   "language": "python",
   "name": "python3"
  },
  "language_info": {
   "codemirror_mode": {
    "name": "ipython",
    "version": 3
   },
   "file_extension": ".py",
   "mimetype": "text/x-python",
   "name": "python",
   "nbconvert_exporter": "python",
   "pygments_lexer": "ipython3",
   "version": "3.9.0"
  }
 },
 "nbformat": 4,
 "nbformat_minor": 5
}
