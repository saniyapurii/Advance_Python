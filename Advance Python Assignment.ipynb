{
 "cells": [
  {
   "cell_type": "markdown",
   "id": "384244cf-7b3b-427a-9127-f20d705e7a05",
   "metadata": {},
   "source": [
    "# Assignment"
   ]
  },
  {
   "cell_type": "markdown",
   "id": "aa39e4f7-3dd6-44ad-bf46-ab9c8e726e17",
   "metadata": {},
   "source": [
    "#### Q.1 Why numpy is better than list.\n",
    "#### Q.2 How do you check shape, size and dimension of an array.\n",
    "#### Q.3 What is difference between zeros function, ones function, eye function, diagonal function, unique and linspace function, hstack function, vstack function, random integer, rand function, seed function. (One example each)\n",
    "#### Q.4 How do you create a user defined array.\n",
    "#### Q.5 Difference between series and Dataframe in pandas(Defination with example).\n",
    "#### Q.6 How do you handle missing data in pandas.\n",
    "#### Q.7 Difference between describe and info method in pandas.\n",
    "#### Q.8 Difference between loc and iloc in pandas.\n",
    "#### Q.9 Why we use value_count().\n",
    "#### Q.10 Difference between merge and concate in pandas, How do you add row wise and coloumn wise data in pandas.\n",
    "#### Q.11 How do you rename coloumn name in pandas.\n",
    "#### Q.12 Lets suppose we have employee info dataset, in which we have coloumn, emp_id, emp_name, department, working_hours, Salary, now you have to update, 2 emp salary and 2 emp working hours, and then you have to create new coloumns using pandas, let suppose, we have a coloumn department, in which we have departments like, sales, IT and operations, now you have to create particular coloumns of sales, IT and operations.\n",
    "#### Q.13 Difference between univarient, bivarient and multivarient analysis with example.\n",
    "#### Q.14 Difference between discreate data and continous data\n",
    "#### Q.15 What types of chart you will use when you have numerical data and categorical data."
   ]
  },
  {
   "cell_type": "markdown",
   "id": "201b776d-f25f-45f9-b530-8f571fedf4b9",
   "metadata": {},
   "source": [
    "## Q.1 Why numpy is better than list.\n",
    "\n",
    "There are two main reasons why we would use NumPy array instead of lists in Python. \n",
    "The Python NumPy array consumes less memory than lists. The NumPy array is pretty fast in terms of execution, as compared to lists in Python."
   ]
  },
  {
   "cell_type": "markdown",
   "id": "3a25a3d3-12c3-45e2-ada9-73ba0aee04ae",
   "metadata": {},
   "source": [
    "## Q.2 How do you check shape, size and dimension of an array.\", dimensions)\r\n"
   ]
  },
  {
   "cell_type": "code",
   "execution_count": 54,
   "id": "50a12b2d-ed6b-42cf-9e6b-6fe6bd036d01",
   "metadata": {},
   "outputs": [
    {
     "name": "stdout",
     "output_type": "stream",
     "text": [
      "Shape: (2, 3)\n",
      "Size: 6\n",
      "Number of dimensions: 2\n"
     ]
    }
   ],
   "source": [
    "import numpy as np\n",
    "arr = np.array([[1, 2, 3], [4, 5, 6]])\n",
    "shape = arr.shape\n",
    "size = arr.size\n",
    "dimensions = arr.ndim\n",
    "print(\"Shape:\", shape)\n",
    "print(\"Size:\", size)\n",
    "print(\"Number of dimensions:\", dimensions)\n"
   ]
  },
  {
   "cell_type": "markdown",
   "id": "fcfa6e41-c107-4b2e-9796-df47bd07e3de",
   "metadata": {},
   "source": [
    "## Q.3 What is difference between zeros function, ones function, eye function, diagonal function, unique and linspace function, hstack function, vstack function, random integer, rand function, seed function. (One example each)"
   ]
  },
  {
   "cell_type": "markdown",
   "id": "27cf7560-0d0e-46c8-b0ea-9eeaa165f5d3",
   "metadata": {},
   "source": [
    "### zeros() function: Creates an array filled with zeros."
   ]
  },
  {
   "cell_type": "code",
   "execution_count": 141,
   "id": "8cef7a6a-13e8-4f4c-a2c6-964fdeaff14f",
   "metadata": {},
   "outputs": [
    {
     "name": "stdout",
     "output_type": "stream",
     "text": [
      "[[0. 0. 0.]\n",
      " [0. 0. 0.]]\n"
     ]
    }
   ],
   "source": [
    "import numpy as np\n",
    "arr_zeros = np.zeros((2, 3))\n",
    "print(arr_zeros)"
   ]
  },
  {
   "cell_type": "markdown",
   "id": "0f74ddae-7b3b-4ff7-bfa5-8a3b92b4a311",
   "metadata": {},
   "source": [
    "### ones() function: Creates an array filled with ones."
   ]
  },
  {
   "cell_type": "code",
   "execution_count": 143,
   "id": "0fc5ddaf-8789-48dd-82bf-22f04c273a6c",
   "metadata": {},
   "outputs": [
    {
     "name": "stdout",
     "output_type": "stream",
     "text": [
      "[[1. 1. 1.]\n",
      " [1. 1. 1.]]\n"
     ]
    }
   ],
   "source": [
    "arr_ones = np.ones((2, 3))\n",
    "print(arr_ones)"
   ]
  },
  {
   "cell_type": "markdown",
   "id": "211d8d55-1ad9-4aa2-a446-567ed5641018",
   "metadata": {},
   "source": [
    "### eye() function: Creates a 2-D array with ones on the diagonal and zeros elsewhere."
   ]
  },
  {
   "cell_type": "code",
   "execution_count": 144,
   "id": "c0abd5fb-48ec-4aaf-b1fa-f1290694606e",
   "metadata": {},
   "outputs": [
    {
     "name": "stdout",
     "output_type": "stream",
     "text": [
      "[[1. 0. 0.]\n",
      " [0. 1. 0.]\n",
      " [0. 0. 1.]]\n"
     ]
    }
   ],
   "source": [
    "arr_eye = np.eye(3)\n",
    "print(arr_eye)"
   ]
  },
  {
   "cell_type": "markdown",
   "id": "6bf4aab4-48bc-4415-99c2-38d34865e9cc",
   "metadata": {},
   "source": [
    "### diagonal() function: Returns the specified diagonal of an array."
   ]
  },
  {
   "cell_type": "code",
   "execution_count": 149,
   "id": "81aa8d1b-411c-4d77-882b-b6f6622645c9",
   "metadata": {},
   "outputs": [
    {
     "name": "stdout",
     "output_type": "stream",
     "text": [
      "[[1 2 3]\n",
      " [4 5 6]\n",
      " [7 8 9]]\n",
      " \n",
      "Diagonal :-\n",
      "[1 5 9]\n"
     ]
    }
   ],
   "source": [
    "arr = np.array([[1, 2, 3], [4, 5, 6], [7, 8, 9]])\n",
    "print(arr)\n",
    "print(\" \")\n",
    "print(\"Diagonal :-\")\n",
    "arr_diagonal = np.diagonal(arr)\n",
    "print(arr_diagonal)"
   ]
  },
  {
   "cell_type": "markdown",
   "id": "316d810b-fc56-4c0c-a0e8-323e7701d9f0",
   "metadata": {},
   "source": [
    "### unique() function: Finds the unique elements of an array."
   ]
  },
  {
   "cell_type": "code",
   "execution_count": 150,
   "id": "21e258ca-9f5c-49ec-ac61-a1abba99f758",
   "metadata": {},
   "outputs": [
    {
     "name": "stdout",
     "output_type": "stream",
     "text": [
      "[1 2 3 4 5]\n"
     ]
    }
   ],
   "source": [
    "arr = np.array([1, 2, 2, 3, 4, 4, 4, 5])\n",
    "arr_unique = np.unique(arr)\n",
    "print(arr_unique)"
   ]
  },
  {
   "cell_type": "markdown",
   "id": "6475c8b8-5f0a-4386-b36d-54b5fda9df7c",
   "metadata": {},
   "source": [
    "### linspace() function: Returns evenly spaced numbers over a specified interval."
   ]
  },
  {
   "cell_type": "code",
   "execution_count": 159,
   "id": "418744c1-fe2f-4756-9b2d-5bc118863dc8",
   "metadata": {},
   "outputs": [
    {
     "name": "stdout",
     "output_type": "stream",
     "text": [
      "[ 0.   2.5  5.   7.5 10. ]\n"
     ]
    }
   ],
   "source": [
    "arr_linspace = np.linspace(0, 10, 5)\n",
    "print(arr_linspace)"
   ]
  },
  {
   "cell_type": "markdown",
   "id": "487099de-e5a3-4c98-969a-7682ef425ca7",
   "metadata": {},
   "source": [
    "### hstack() function: Stacks arrays in sequence horizontally (column-wise)."
   ]
  },
  {
   "cell_type": "code",
   "execution_count": 162,
   "id": "a6f569e4-8359-4797-b04e-ccb704c64035",
   "metadata": {},
   "outputs": [
    {
     "name": "stdout",
     "output_type": "stream",
     "text": [
      "[1 2 3 4 5 6]\n"
     ]
    }
   ],
   "source": [
    "arr1 = np.array([1, 2, 3])\n",
    "arr2 = np.array([4, 5, 6])\n",
    "arr_hstack = np.hstack((arr1, arr2))\n",
    "print(arr_hstack)"
   ]
  },
  {
   "cell_type": "markdown",
   "id": "b9bd1248-a581-4032-bc37-2510f96087d5",
   "metadata": {},
   "source": [
    "### vstack function: Stacks arrays in sequence vertically (row-wise)."
   ]
  },
  {
   "cell_type": "code",
   "execution_count": 163,
   "id": "44ece37b-61f1-470f-adfc-e41b18a764a7",
   "metadata": {},
   "outputs": [
    {
     "name": "stdout",
     "output_type": "stream",
     "text": [
      "[[1 2 3]\n",
      " [4 5 6]]\n"
     ]
    }
   ],
   "source": [
    "arr1 = np.array([1, 2, 3])\n",
    "arr2 = np.array([4, 5, 6])\n",
    "arr_vstack = np.vstack((arr1, arr2))\n",
    "print(arr_vstack)"
   ]
  },
  {
   "cell_type": "markdown",
   "id": "c15b0bba-a443-406a-ba38-1d3a88e7e304",
   "metadata": {},
   "source": [
    "### random integer (randint) function: Generates random integers between a specified range."
   ]
  },
  {
   "cell_type": "code",
   "execution_count": 164,
   "id": "06447a27-3694-4b45-88d0-5d15ed66f139",
   "metadata": {},
   "outputs": [
    {
     "name": "stdout",
     "output_type": "stream",
     "text": [
      "[[5 1 2]\n",
      " [7 6 2]]\n"
     ]
    }
   ],
   "source": [
    "arr_randint = np.random.randint(1, 10, size=(2, 3))\n",
    "print(arr_randint)"
   ]
  },
  {
   "cell_type": "markdown",
   "id": "0f16fc21-4ddf-4da1-8c00-1009e1115be2",
   "metadata": {},
   "source": [
    "### rand function: Generates random numbers between 0 and 1."
   ]
  },
  {
   "cell_type": "code",
   "execution_count": 165,
   "id": "f9e1f077-f829-48ab-b250-9acc7cc193a8",
   "metadata": {},
   "outputs": [
    {
     "name": "stdout",
     "output_type": "stream",
     "text": [
      "[[0.7149455  0.735636   0.51726146]\n",
      " [0.60527244 0.44314806 0.3594772 ]]\n"
     ]
    }
   ],
   "source": [
    "arr_rand = np.random.rand(2, 3)\n",
    "print(arr_rand)"
   ]
  },
  {
   "cell_type": "markdown",
   "id": "8fe5edeb-9dca-4044-b220-b9e7b837f007",
   "metadata": {},
   "source": [
    "### seed function: Sets the seed for the random number generator, ensuring reproducibility."
   ]
  },
  {
   "cell_type": "code",
   "execution_count": 167,
   "id": "bc725717-9d45-45dc-90f1-8c1510ed8df9",
   "metadata": {},
   "outputs": [
    {
     "name": "stdout",
     "output_type": "stream",
     "text": [
      "[[0.37454012 0.95071431 0.73199394]\n",
      " [0.59865848 0.15601864 0.15599452]]\n"
     ]
    }
   ],
   "source": [
    "np.random.seed(42)\n",
    "arr_seed = np.random.rand(2, 3)\n",
    "print(arr_seed)"
   ]
  },
  {
   "cell_type": "markdown",
   "id": "4d09cba7-a232-4c29-b149-d997024ae3f5",
   "metadata": {},
   "source": [
    "## Q.4 How do you create a user defined array."
   ]
  },
  {
   "cell_type": "code",
   "execution_count": 140,
   "id": "e57a1230-9035-4129-aa38-0507015804e4",
   "metadata": {},
   "outputs": [
    {
     "name": "stdin",
     "output_type": "stream",
     "text": [
      "Enter the number of elements:  4\n",
      "Enter element 1:  1\n",
      "Enter element 2:  2\n",
      "Enter element 3:  3\n",
      "Enter element 4:  4\n"
     ]
    },
    {
     "name": "stdout",
     "output_type": "stream",
     "text": [
      "User-defined array from input: [1 2 3 4]\n"
     ]
    }
   ],
   "source": [
    "import numpy as np\n",
    "\n",
    "def create_user_defined_array():\n",
    "    size = int(input(\"Enter the number of elements: \"))\n",
    "    elements = []\n",
    "    for i in range(size):\n",
    "        element = int(input(f\"Enter element {i+1}: \"))\n",
    "        elements.append(element)\n",
    "    \n",
    "    # Create the NumPy array from the list of elements\n",
    "    user_defined_array = np.array(elements)\n",
    "    \n",
    "    return user_defined_array\n",
    "\n",
    "# Create the array\n",
    "user_array = create_user_defined_array()\n",
    "\n",
    "print(\"User-defined array from input:\", user_array)\n"
   ]
  },
  {
   "cell_type": "markdown",
   "id": "dffa9802-84ea-4bd8-bc46-bcf566aa6f7c",
   "metadata": {},
   "source": [
    "## Q.5 Difference between series and Dataframe in pandas(Defination with example).\n",
    "\n",
    "#### One of the main differences between DataFrame and Series is that a DataFrame can have multiple columns, while a Series can only have one. This means that a DataFrame can store more complex and heterogeneous data, while a Series can store more simple and homogeneous data.\n",
    "\n",
    "#### Series:-A Pandas Series is a one-dimensional array-like object that can hold data of any type (integer, float, string, etc.). \n",
    "#### Dataframe:- A Pandas DataFrame is a two-dimensional, tabular data structure with rows and columns. It is similar to a spreadsheet or a table in a relational database."
   ]
  },
  {
   "cell_type": "code",
   "execution_count": 114,
   "id": "b7fe81c9-3370-4e46-8ef9-fc5812cac004",
   "metadata": {},
   "outputs": [
    {
     "name": "stdout",
     "output_type": "stream",
     "text": [
      "0    1\n",
      "1    2\n",
      "2    3\n",
      "3    4\n",
      "dtype: int64\n",
      " \n",
      "   A  B\n",
      "0  1  5\n",
      "1  2  6\n",
      "2  3  7\n",
      "3  4  8\n"
     ]
    }
   ],
   "source": [
    "import pandas as pd\n",
    "\n",
    "# Creating a Series\n",
    "data = [1, 2, 3, 4]\n",
    "series = pd.Series(data)\n",
    "print(series)\n",
    "print(\" \")\n",
    "# Creating a DataFrame\n",
    "data = {\n",
    "    'A': [1, 2, 3, 4],\n",
    "    'B': [5, 6, 7, 8]\n",
    "}\n",
    "df = pd.DataFrame(data)\n",
    "print(df)"
   ]
  },
  {
   "cell_type": "markdown",
   "id": "804b8b85-7531-451b-a23d-4ae4bc19be7b",
   "metadata": {},
   "source": [
    "## Q.6 How do you handle missing data in pandas.\n",
    "\n",
    "#### first we will check missing data, then either we will drop the coloumns or rows containing missing values using dropna(), or we can replace the missing values using fillna()"
   ]
  },
  {
   "cell_type": "code",
   "execution_count": 180,
   "id": "d4fc5c27-4001-4759-a07d-144c18b5f5b1",
   "metadata": {},
   "outputs": [
    {
     "name": "stdout",
     "output_type": "stream",
     "text": [
      "     A    B    C  D\n",
      "0  1.0  NaN  1.0  1\n",
      "1  2.0  2.0  2.0  2\n",
      "2  NaN  3.0  3.0  3\n",
      "3  4.0  4.0  NaN  4\n",
      "4  5.0  5.0  5.0  5\n",
      "  \n",
      "     A    B    C  D\n",
      "1  2.0  2.0  2.0  2\n",
      "4  5.0  5.0  5.0  5\n",
      " \n"
     ]
    }
   ],
   "source": [
    "import pandas as pd\n",
    "import numpy as np\n",
    "\n",
    "# create dataframe with missing values\n",
    "data = {\n",
    "    'A': [1, 2, np.nan, 4, 5],\n",
    "    'B': [np.nan, 2, 3, 4, 5],\n",
    "    'C': [1, 2, 3, np.nan, 5],\n",
    "    'D': [1, 2, 3, 4, 5]\n",
    "}\n",
    "df = pd.DataFrame(data)\n",
    "print(df)\n",
    "\n",
    "print(\"  \")\n",
    "# remove rows with missing values\n",
    "df.dropna(inplace=True)\n",
    "print(df)\n",
    "print(\" \")\n"
   ]
  },
  {
   "cell_type": "code",
   "execution_count": 181,
   "id": "4304d1a1-c010-432c-81a0-70cf3fd48df8",
   "metadata": {},
   "outputs": [
    {
     "name": "stdout",
     "output_type": "stream",
     "text": [
      "     A    B    C  D\n",
      "0  1.0  NaN  1.0  1\n",
      "1  2.0  2.0  2.0  2\n",
      "2  NaN  3.0  3.0  3\n",
      "3  4.0  4.0  NaN  4\n",
      "4  5.0  5.0  5.0  5\n",
      "  \n",
      "     A    B    C  D\n",
      "0  1.0  0.0  1.0  1\n",
      "1  2.0  2.0  2.0  2\n",
      "2  0.0  3.0  3.0  3\n",
      "3  4.0  4.0  0.0  4\n",
      "4  5.0  5.0  5.0  5\n"
     ]
    }
   ],
   "source": [
    "import pandas as pd\n",
    "import numpy as np\n",
    "\n",
    "# create dataframe with missing values\n",
    "data = {\n",
    "    'A': [1, 2, np.nan, 4, 5],\n",
    "    'B': [np.nan, 2, 3, 4, 5],\n",
    "    'C': [1, 2, 3, np.nan, 5],\n",
    "    'D': [1, 2, 3, 4, 5]\n",
    "}\n",
    "df = pd.DataFrame(data)\n",
    "print(df)\n",
    "print(\"  \")\n",
    "# replace missing values with 0\n",
    "df.fillna(value=0, inplace=True)\n",
    "print(df)"
   ]
  },
  {
   "cell_type": "markdown",
   "id": "b29ca6b4-2fcd-4ef9-9a13-1ecec90ba0db",
   "metadata": {},
   "source": [
    "## Q.7 Difference between describe and info method in pandas.\n",
    "\n",
    "#### describe(): .describe() method gives us summary statistics for numerical columns in our DataFrame, excluding NaN values.\n",
    "#### info(): Prints a concise summary of a DataFrame, including the index dtype and column dtypes, non-null values, and memory usage. info() method allows us to learn the shape of object types of our data."
   ]
  },
  {
   "cell_type": "code",
   "execution_count": 98,
   "id": "230a530b-d8dd-4ae3-8f27-bd20e254557d",
   "metadata": {},
   "outputs": [
    {
     "name": "stdout",
     "output_type": "stream",
     "text": [
      "Describe: -\n",
      "              A         B\n",
      "count  5.000000  5.000000\n",
      "mean   3.000000  3.000000\n",
      "std    1.581139  1.581139\n",
      "min    1.000000  1.000000\n",
      "25%    2.000000  2.000000\n",
      "50%    3.000000  3.000000\n",
      "75%    4.000000  4.000000\n",
      "max    5.000000  5.000000\n",
      " \n",
      "Info:-\n",
      "<class 'pandas.core.frame.DataFrame'>\n",
      "RangeIndex: 5 entries, 0 to 4\n",
      "Data columns (total 3 columns):\n",
      " #   Column  Non-Null Count  Dtype \n",
      "---  ------  --------------  ----- \n",
      " 0   A       5 non-null      int64 \n",
      " 1   B       5 non-null      int64 \n",
      " 2   C       5 non-null      object\n",
      "dtypes: int64(2), object(1)\n",
      "memory usage: 248.0+ bytes\n",
      "None\n"
     ]
    }
   ],
   "source": [
    "import pandas as pd\n",
    "\n",
    "data = {\n",
    "    'A': [1, 2, 3, 4, 5],\n",
    "    'B': [5, 4, 3, 2, 1],\n",
    "    'C': ['a', 'b', 'c', 'd', 'e']\n",
    "}\n",
    "df = pd.DataFrame(data)\n",
    "\n",
    "# Describe\n",
    "print(\"Describe: -\")\n",
    "print(df.describe())\n",
    "print(\" \")\n",
    "# Info\n",
    "print(\"Info:-\")\n",
    "print(df.info())\n"
   ]
  },
  {
   "cell_type": "markdown",
   "id": "27189b81-38c6-4990-b676-88f0c3c139bb",
   "metadata": {},
   "source": [
    "## Q.8 Difference between loc and iloc in pandas.\n",
    "\n",
    "#### loc: Access a group of rows and columns by labels or a boolean array.\n",
    "#### iloc: Access a group of rows and columns by integer positions (integer-location based indexing for selection by position)."
   ]
  },
  {
   "cell_type": "code",
   "execution_count": 99,
   "id": "dbc06a39-4fe3-48aa-a09f-9f2f52693fce",
   "metadata": {},
   "outputs": [
    {
     "name": "stdout",
     "output_type": "stream",
     "text": [
      "loc - label-based\n",
      "A    1\n",
      "B    4\n",
      "Name: a, dtype: int64\n",
      " \n",
      "iloc - integer position-based\n",
      "A    1\n",
      "B    4\n",
      "Name: a, dtype: int64\n"
     ]
    }
   ],
   "source": [
    "import pandas as pd\n",
    "\n",
    "data = {\n",
    "    'A': [1, 2, 3],\n",
    "    'B': [4, 5, 6]\n",
    "}\n",
    "df = pd.DataFrame(data, index=['a', 'b', 'c'])\n",
    "\n",
    "print(\"loc - label-based\")\n",
    "print(df.loc['a'])\n",
    "print( \" \")\n",
    "print(\"iloc - integer position-based\")\n",
    "print(df.iloc[0])\n"
   ]
  },
  {
   "cell_type": "markdown",
   "id": "80a01d3f-caf0-426e-853d-7996601e2098",
   "metadata": {},
   "source": [
    "## Q.9 Why we use value_count()."
   ]
  },
  {
   "cell_type": "markdown",
   "id": "8052d145-4e66-421f-acbe-beb290020caa",
   "metadata": {},
   "source": [
    "value_counts() is used to count the unique values in a Series. It returns a Series containing counts of unique values."
   ]
  },
  {
   "cell_type": "code",
   "execution_count": 57,
   "id": "8af10d79-522e-476c-a901-cc81ff6dc4ee",
   "metadata": {},
   "outputs": [
    {
     "name": "stdout",
     "output_type": "stream",
     "text": [
      "3    3\n",
      "2    2\n",
      "1    1\n",
      "Name: count, dtype: int64\n"
     ]
    }
   ],
   "source": [
    "import pandas as pd\n",
    "\n",
    "data = [1, 2, 2, 3, 3, 3]\n",
    "series = pd.Series(data)\n",
    "print(series.value_counts())"
   ]
  },
  {
   "cell_type": "markdown",
   "id": "fb45b266-86f9-4fc1-ac78-f777b8a1f017",
   "metadata": {},
   "source": [
    "## Q.10 Difference between merge and concat in pandas, How do you add row wise and coloumn wise data in pandas.\n",
    "\n",
    "#### merge: Similar to SQL joins, combining DataFrames based on keys/columns.\n",
    "#### concat: Concatenates DataFrames along a particular axis (rows or columns)."
   ]
  },
  {
   "cell_type": "code",
   "execution_count": 100,
   "id": "8bef61a5-f6cc-45e1-9736-528753e38122",
   "metadata": {},
   "outputs": [
    {
     "name": "stdout",
     "output_type": "stream",
     "text": [
      "    A   B   C\n",
      "0  A1  B1  C1\n",
      "1  A2  B2  C2\n",
      " \n",
      "    A   B\n",
      "0  A0  B0\n",
      "1  A1  B1\n",
      "2  A2  B2\n"
     ]
    }
   ],
   "source": [
    "import pandas as pd\n",
    "\n",
    "# Merge\n",
    "df1 = pd.DataFrame({'A': ['A0', 'A1', 'A2'], 'B': ['B0', 'B1', 'B2']})\n",
    "df2 = pd.DataFrame({'A': ['A1', 'A2', 'A3'], 'C': ['C1', 'C2', 'C3']})\n",
    "df_merged = pd.merge(df1, df2, on='A', how='inner')\n",
    "print(df_merged)\n",
    "\n",
    "print(\" \")\n",
    "\n",
    "# Concat\n",
    "df3 = pd.DataFrame({'A': ['A0', 'A1', 'A2']})\n",
    "df4 = pd.DataFrame({'B': ['B0', 'B1', 'B2']})\n",
    "df_concat = pd.concat([df3, df4], axis=1)\n",
    "print(df_concat)"
   ]
  },
  {
   "cell_type": "markdown",
   "id": "79636074-17e9-4a54-b03d-a21f7bce55c3",
   "metadata": {},
   "source": [
    "## Q.11 How do you rename coloumn name in pandas."
   ]
  },
  {
   "cell_type": "code",
   "execution_count": 84,
   "id": "b852d298-39fc-4725-9084-2e663305e5ed",
   "metadata": {},
   "outputs": [
    {
     "name": "stdout",
     "output_type": "stream",
     "text": [
      "   new_name\n",
      "0         1\n",
      "1         2\n",
      "2         3\n"
     ]
    }
   ],
   "source": [
    "import pandas as pd\n",
    "df = pd.DataFrame({\n",
    "    'Data': [1, 2, 3] })\n",
    "df.rename(columns={'Data': 'new_name'}, inplace = True)\n",
    "print(df)"
   ]
  },
  {
   "cell_type": "markdown",
   "id": "0a148650-9af0-48cf-bf08-9c30abbfa708",
   "metadata": {},
   "source": [
    "## Q.12 Lets suppose we have employee info dataset, in which we have coloumn, emp_id, emp_name, department, working_hours, Salary, now you have to update, 2 emp salary and 2 emp working hours, and then you have to create new coloumns using pandas, let suppose, we have a coloumn department, in which we have departments like, sales, IT and operations, now you have to create particular coloumns of sales, IT and operations."
   ]
  },
  {
   "cell_type": "code",
   "execution_count": 90,
   "id": "f4500519-2eb6-4d1b-bc9d-3ab22f957bc5",
   "metadata": {},
   "outputs": [
    {
     "name": "stdout",
     "output_type": "stream",
     "text": [
      "   emp_id   emp_name  department  working_hours  Salary\n",
      "0       1     Ashish       Sales             40   52000\n",
      "1       2    Bhavesh          IT             38   62000\n",
      "2       3  Chayanika  Operations             42   55000\n",
      "3       4  Divyanshi       Sales             48   70000\n",
      "   \n",
      "   emp_id   emp_name  department  working_hours  Salary  Sales  IT  Operations\n",
      "0       1     Ashish       Sales             40   52000      1   0           0\n",
      "1       2    Bhavesh          IT             38   62000      0   1           0\n",
      "2       3  Chayanika  Operations             42   55000      0   0           1\n",
      "3       4  Divyanshi       Sales             48   70000      1   0           0\n"
     ]
    }
   ],
   "source": [
    "import pandas as pd\n",
    "\n",
    "# Creating the DataFrame\n",
    "data = {\n",
    "    'emp_id': [1, 2, 3, 4],\n",
    "    'emp_name': ['Ashish', 'Bhavesh', 'Chayanika', 'Divyanshi'],\n",
    "    'department': ['Sales', 'IT', 'Operations', 'Sales'],\n",
    "    'working_hours': [40, 38, 45, 50],\n",
    "    'Salary': [50000, 60000, 55000, 70000]\n",
    "}\n",
    "df = pd.DataFrame(data)\n",
    "\n",
    "# Update 2 employees' salary and working hours\n",
    "df.loc[df.emp_id == 1, 'Salary'] = 52000\n",
    "df.loc[df.emp_id == 2, 'Salary'] = 62000\n",
    "df.loc[df.emp_id == 3, 'working_hours'] = 42\n",
    "df.loc[df.emp_id == 4, 'working_hours'] = 48\n",
    "\n",
    "print(df)\n",
    "print (\"   \")\n",
    "# Create new columns for departments\n",
    "df['Sales'] = df['department'].apply(lambda x: 1 if x == 'Sales' else 0)\n",
    "df['IT'] = df['department'].apply(lambda x: 1 if x == 'IT' else 0)\n",
    "df['Operations'] = df['department'].apply(lambda x: 1 if x == 'Operations' else 0)\n",
    "print(df)\n"
   ]
  },
  {
   "cell_type": "markdown",
   "id": "20c4cb5b-d7ef-49af-8efc-dda7c2ab28ce",
   "metadata": {},
   "source": [
    "## Q.13 Difference between univarient, bivarient and multivarient analysis with example.\n",
    "\n",
    "\n",
    "#### Univariate analysis: Analysis of a single variable.\n",
    "#### Bivariate analysis: Analysis of two variables to understand the relationship between them.\n",
    "#### Multivariate analysis: Analysis of more than two variables to understand relationships and interactions."
   ]
  },
  {
   "cell_type": "code",
   "execution_count": 124,
   "id": "3b654e27-d4f9-4a6b-930a-7c5d2b079533",
   "metadata": {},
   "outputs": [
    {
     "name": "stdout",
     "output_type": "stream",
     "text": [
      "Univariate:- \n",
      "count     7.000000\n",
      "mean     33.285714\n",
      "std      17.046156\n",
      "min      12.000000\n",
      "25%      24.000000\n",
      "50%      28.000000\n",
      "75%      40.500000\n",
      "max      64.000000\n",
      "Name: Age, dtype: float64\n"
     ]
    },
    {
     "data": {
      "image/png": "[encoded data removed]",
      "text/plain": [
       "<Figure size 640x480 with 1 Axes>"
      ]
     },
     "metadata": {},
     "output_type": "display_data"
    },
    {
     "name": "stdout",
     "output_type": "stream",
     "text": [
      "  \n",
      "Bivariate:-\n",
      "             Age    Salary\n",
      "Age     1.000000  0.939682\n",
      "Salary  0.939682  1.000000\n"
     ]
    },
    {
     "data": {
      "image/png": "[encoded data removed]",
      "text/plain": [
       "<Figure size 640x480 with 1 Axes>"
      ]
     },
     "metadata": {},
     "output_type": "display_data"
    },
    {
     "name": "stdout",
     "output_type": "stream",
     "text": [
      "  \n",
      "Multivariate:-\n"
     ]
    },
    {
     "data": {
      "image/png": "[encoded data removed]",
      "text/plain": [
       "<Figure size 750x750 with 12 Axes>"
      ]
     },
     "metadata": {},
     "output_type": "display_data"
    },
    {
     "data": {
      "image/png": "[encoded data removed]",
      "text/plain": [
       "<Figure size 640x480 with 2 Axes>"
      ]
     },
     "metadata": {},
     "output_type": "display_data"
    }
   ],
   "source": [
    "import pandas as pd\n",
    "import matplotlib.pyplot as plt\n",
    "import seaborn as sns\n",
    "\n",
    "data = {'Age': [23, 45, 12, 36, 25, 64, 28]}\n",
    "df = pd.DataFrame(data)\n",
    "print(\"Univariate:- \")\n",
    "# Descriptive statistics\n",
    "print(df['Age'].describe())\n",
    "\n",
    "# Visualization\n",
    "df['Age'].hist()\n",
    "plt.title('Histogram of Age')\n",
    "plt.xlabel('Age')\n",
    "plt.ylabel('Frequency')\n",
    "plt.show()\n",
    "\n",
    "print(\"  \")\n",
    "\n",
    "print(\"Bivariate:-\")\n",
    "data = {'Age': [23, 45, 12, 36, 25, 64, 28],\n",
    "        'Salary': [40000, 50000, 15000, 60000, 32000, 80000, 36000]}\n",
    "df = pd.DataFrame(data)\n",
    "\n",
    "# Correlation\n",
    "print(df.corr())\n",
    "# Visualization\n",
    "sns.scatterplot(x='Age', y='Salary', data=df)\n",
    "plt.title('Scatter Plot of Age vs Salary')\n",
    "plt.xlabel('Age')\n",
    "plt.ylabel('Salary')\n",
    "plt.show()\n",
    "\n",
    "\n",
    "print(\"  \")\n",
    "print(\"Multivariate:-\")\n",
    "\n",
    "data = {'Age': [23, 45, 12, 36, 25, 64, 28],\n",
    "        'Salary': [40000, 50000, 15000, 60000, 32000, 80000, 36000],\n",
    "        'Experience': [1, 20, 0, 10, 2, 30, 4]}\n",
    "df = pd.DataFrame(data)\n",
    "\n",
    "# Pair Plot\n",
    "sns.pairplot(df)\n",
    "plt.suptitle('Pair Plot of Age, Salary, and Experience', y=1.02)\n",
    "plt.show()\n",
    "\n",
    "# Heatmap\n",
    "sns.heatmap(df.corr(), annot=True, cmap='coolwarm')\n",
    "plt.title('Correlation Heatmap')\n",
    "plt.show()"
   ]
  },
  {
   "cell_type": "markdown",
   "id": "38951284-c167-4889-970f-79e87462b745",
   "metadata": {},
   "source": [
    "## Q.14 Difference between discrete data and continous data.\n",
    "#### Discrete Data :- These are distinct or specific values, typicallly whole numbers or integers. can represent count and are easily represented by bar graph\n",
    "\n",
    "#### Continuous Data :- It can take fractional and decimal values. It often represent measurements or quantities and can be represented by line graph."
   ]
  },
  {
   "cell_type": "code",
   "execution_count": 70,
   "id": "cc2c95f5-49e7-43e1-8dfd-33ab45dbd86c",
   "metadata": {},
   "outputs": [],
   "source": [
    "# Discrete data\n",
    "Student_ID = [1, 2, 3, 4, 5]\n",
    "\n",
    "# Continuous data\n",
    "Student_weight = [19.5, 20.3,23.8, 24.1, 25.0] \n"
   ]
  },
  {
   "cell_type": "markdown",
   "id": "552fb733-0d71-4e53-927c-556716446654",
   "metadata": {},
   "source": [
    "## Q.15 What types of chart you will use when you have numerical data and categorical data.¶\n",
    "\n",
    "#### Numerical data: Histograms, box plots, scatter plots.\n",
    "#### Categorical data: Bar charts, pie charts, count plots."
   ]
  },
  {
   "cell_type": "code",
   "execution_count": 127,
   "id": "7b9f093b-78f9-432a-bc46-9a8bc854abb2",
   "metadata": {},
   "outputs": [
    {
     "data": {
      "image/png": "[encoded data removed]",
      "text/plain": [
       "<Figure size 640x480 with 1 Axes>"
      ]
     },
     "metadata": {},
     "output_type": "display_data"
    },
    {
     "data": {
      "image/png": "[encoded data removed]",
      "text/plain": [
       "<Figure size 640x480 with 1 Axes>"
      ]
     },
     "metadata": {},
     "output_type": "display_data"
    }
   ],
   "source": [
    "import pandas as pd\n",
    "import seaborn as sns\n",
    "import matplotlib.pyplot as plt\n",
    "\n",
    "# Numerical data example\n",
    "data_num = {\n",
    "    'values': [1, 2, 2, 3, 3, 3, 4, 4, 4, 4]\n",
    "}\n",
    "df_num = pd.DataFrame(data_num)\n",
    "sns.histplot(df_num['values'])\n",
    "plt.show()\n",
    "\n",
    "# Categorical data example\n",
    "data_cat = {\n",
    "    'category': ['A', 'B', 'A', 'C', 'B', 'A']\n",
    "}\n",
    "df_cat = pd.DataFrame(data_cat)\n",
    "sns.countplot(x='category', data=df_cat)\n",
    "plt.show()\n"
   ]
  },
  {
   "cell_type": "markdown",
   "id": "369bcd26-8c86-44ec-8cff-3f8dd1e91901",
   "metadata": {},
   "source": [
    "### Bar Chart :- A bar chart is useful for comparing the numerical values of different categories. Each bar represents a category, and the height (or length) of the bar corresponds to the numerical value.\n",
    "### Box Plot:- A box plot (or box-and-whisker plot) displays the distribution of numerical data across different categories. It shows the median, quartiles, and potential outliers."
   ]
  },
  {
   "cell_type": "code",
   "execution_count": 129,
   "id": "8254c916-8659-48c5-baac-a4a9876f6744",
   "metadata": {},
   "outputs": [
    {
     "data": {
      "image/png": "[encoded data removed]",
      "text/plain": [
       "<Figure size 640x480 with 1 Axes>"
      ]
     },
     "metadata": {},
     "output_type": "display_data"
    },
    {
     "data": {
      "image/png": "[encoded data removed]",
      "text/plain": [
       "<Figure size 640x480 with 1 Axes>"
      ]
     },
     "metadata": {},
     "output_type": "display_data"
    }
   ],
   "source": [
    "import pandas as pd\n",
    "import matplotlib.pyplot as plt\n",
    "import seaborn as sns\n",
    "\n",
    "# Example data\n",
    "data = {'Category': ['A', 'B', 'C', 'D'],\n",
    "        'Value': [23, 45, 56, 78]}\n",
    "df = pd.DataFrame(data)\n",
    "\n",
    "# Plotting the bar chart\n",
    "df.plot(kind='bar', x='Category', y='Value', legend=False)\n",
    "plt.title('Bar Chart Example')\n",
    "plt.xlabel('Category')\n",
    "plt.ylabel('Value')\n",
    "plt.show()\n",
    "\n",
    "\n",
    "# Example data\n",
    "data = {'Category': ['A', 'A', 'A', 'B', 'B', 'B', 'C', 'C', 'C'],\n",
    "        'Value': [23, 25, 22, 45, 48, 44, 56, 58, 57]}\n",
    "df = pd.DataFrame(data)\n",
    "\n",
    "# Plotting the box plot\n",
    "sns.boxplot(x='Category', y='Value', data=df)\n",
    "plt.title('Box Plot Example')\n",
    "plt.xlabel('Category')\n",
    "plt.ylabel('Value')\n",
    "plt.show()\n"
   ]
  }
 ],
 "metadata": {
  "kernelspec": {
   "display_name": "Python 3 (ipykernel)",
   "language": "python",
   "name": "python3"
  },
  "language_info": {
   "codemirror_mode": {
    "name": "ipython",
    "version": 3
   },
   "file_extension": ".py",
   "mimetype": "text/x-python",
   "name": "python",
   "nbconvert_exporter": "python",
   "pygments_lexer": "ipython3",
   "version": "3.9.0"
  }
 },
 "nbformat": 4,
 "nbformat_minor": 5
}
